{
 "cells": [
  {
   "cell_type": "code",
   "execution_count": 1,
   "id": "dd9f5235-6823-43d7-b19d-52eb71e6f2dc",
   "metadata": {},
   "outputs": [],
   "source": [
    "import os\n",
    "import torch\n",
    "import torchaudio\n",
    "import torch.optim\n",
    "from tqdm.notebook import tqdm  # For progress bars in Jupyter Notebook\n",
    "from sklearn.preprocessing import LabelEncoder\n",
    "from sklearn.model_selection import train_test_split"
   ]
  },
  {
   "cell_type": "code",
   "execution_count": 2,
   "id": "7dadb75e-5aa8-4689-b19c-db0adca94682",
   "metadata": {},
   "outputs": [
    {
     "name": "stdout",
     "output_type": "stream",
     "text": [
      "CUDA Available: True\n",
      "Number of GPUs: 1\n",
      "GPU Name: NVIDIA GeForce RTX 3060 Laptop GPU\n"
     ]
    }
   ],
   "source": [
    "##THIS BLOCK OF CODE IS CHECKING IF CUDA IS WORKING OR NOT \n",
    "\n",
    "from transformers import Wav2Vec2Processor, Wav2Vec2Model\n",
    "import torch.optim as optim\n",
    "import torch.nn as nn\n",
    "\n",
    "# Check if CUDA is available\n",
    "cuda_available = torch.cuda.is_available()\n",
    "print(f\"CUDA Available: {cuda_available}\")\n",
    "\n",
    "# If CUDA is available, print GPU details\n",
    "if cuda_available:\n",
    "    print(f\"Number of GPUs: {torch.cuda.device_count()}\")\n",
    "    print(f\"GPU Name: {torch.cuda.get_device_name(0)}\")\n",
    "else:\n",
    "    print(\"No GPU detected by PyTorch.\")"
   ]
  },
  {
   "cell_type": "code",
   "execution_count": null,
   "id": "c9423615-57b6-4f8b-84d1-5f7288617d42",
   "metadata": {},
   "outputs": [],
   "source": [
    "##############LOADING AUDIO FILES AND PREPROCESSING###############\n",
    "#####USED TORCHAUDIO FOR LOADING THE LIBRARIES\n",
    "####SAMPLE RATE= 160000(16khz) COMMONLY CHOSEN\n",
    "\n",
    "def load_audio_nfiles(directory, sample_rate=16000):\n",
    "    \"\"\"\n",
    "\n",
    "    Args:\n",
    "        directory (str): Path to the directory containing .wav files.\n",
    "        sample_rate (int, optional): Target sample rate for audio files. Defaults to 16000.\n",
    "\n",
    "    Returns:\n",
    "        Tuple[List[np.ndarray], List[str]]: A tuple containing a list of audio waveforms and their file names.\n",
    "    \"\"\"\n",
    "    audio_waveforms = []\n",
    "    file_names = []\n",
    "    \n",
    "    # List all .wav files in the directory\n",
    "    file_list = [f for f in os.listdir(directory) if f.lower().endswith('.wav')]\n",
    "    \n",
    "    if not file_list:\n",
    "        raise ValueError(f\"No .wav files found in the directory: {directory}\")\n",
    "    ## tdqm is the library used fro visual progress bars \n",
    "    # Use tqdm for progress tracking\n",
    "    for file_name in tqdm(file_list, desc=\"Loading audio files\"):\n",
    "        file_path = os.path.join(directory, file_name)#to construct the full path by coming direcotory path and file name\n",
    "        try:\n",
    "            waveform, sr = torchaudio.load(file_path)#torchaudio is used to load audio into the memory\n",
    "            ##resampling is happening here to standardize the audio data ensuring consistent inputs\n",
    "            if sr != sample_rate:\n",
    "                resample = torchaudio.transforms.Resample(orig_freq=sr, new_freq=sample_rate)\n",
    "                waveform = resample(waveform)\n",
    "                #audio data might have extra channel dimension,especially when audio is sterio\n",
    "                #sqeeze() : removes the dimension . Converts tensor shape from (1,N) to (N)\n",
    "            waveform = waveform.squeeze()  # Remove channel dimension if it's mono\n",
    "              #Processsed wavform is converted into NumPy array and stored in file_names\n",
    "            audio_waveforms.append(waveform.numpy())  # Convert to numpy array\n",
    "            file_names.append(file_name)\n",
    "        except Exception as e:\n",
    "            print(f\"Error loading {file_name}: {e}\")\n",
    "    \n",
    "    return audio_waveforms, file_names\n",
    "\n",
    "# Example usage\n",
    "directory =  \"C:/Users/prann/OneDrive/Desktop/UPES/7th sem/emotion-detection/data\" \n",
    "audio_waveforms, file_names = load_audio_nfiles(directory)\n",
    "print(f\"Loaded {len(audio_waveforms)} audio files.\")\n"
   ]
  },
  {
   "cell_type": "code",
   "execution_count": 4,
   "id": "3a0b989a-11f0-4279-807e-52cba6f3c5d8",
   "metadata": {},
   "outputs": [
    {
     "name": "stdout",
     "output_type": "stream",
     "text": [
      "Extracted emotion labels for 2800 audio files.\n",
      "Label Mapping: {'angry': 0, 'disgust': 1, 'fear': 2, 'happy': 3, 'neutral': 4, 'ps': 5, 'sad': 6}\n"
     ]
    }
   ],
   "source": [
    "############EXTRACTING LABELS FROM FILENAMES##############\n",
    "##the function here returns the labels which are extracted from the file names\n",
    "\n",
    "def extract_labels(file_names):\n",
    "    \"\"\"\n",
    "    Extract emotion labels from file names.d\n",
    "\n",
    "    Args:\n",
    "        file_names (List[str]): List of audio file names.\n",
    "\n",
    "    Returns:\n",
    "        List[str]: List of extracted emotion labels.\n",
    "    \"\"\"\n",
    "    emotions = []#initializing an empty list \n",
    "    for file_name in file_names:\n",
    "        # Assuming the file name format is OAF_Word_emotion.wav\n",
    "        parts = file_name.split('_')#splits each file using underscore(_) as delimeter \n",
    "        #3 is used to check whether file name follows the format or not\n",
    "        if len(parts) >= 3:\n",
    "            emotion_part = parts[-1]#-1is used since negative indexing allows you to access elements from the end list\n",
    "            #part[-1]is expected to contain emotion along with file extension that is the lasrt elemarnt \n",
    "            emotion = emotion_part.split('.')[0]  # Remove the file extension\n",
    "            emotions.append(emotion)\n",
    "        else:\n",
    "            emotions.append('unknown')  # Handle unexpected file name formats\n",
    "    return emotions\n",
    "\n",
    "# Extract emotion labels\n",
    "emotion_labels = extract_labels(file_names)\n",
    "print(f\"Extracted emotion labels for {len(emotion_labels)} audio files.\")\n",
    "\n",
    "# Initialize LabelEncoder\n",
    "label_encoder = LabelEncoder()\n",
    "encoded_labels = label_encoder.fit_transform(emotion_labels)\n",
    "\n",
    "# For reference, get the mapping of labels to integers\n",
    "label_mapping = dict(zip(label_encoder.classes_, label_encoder.transform(label_encoder.classes_)))\n",
    "print(\"Label Mapping:\", label_mapping)\n"
   ]
  },
  {
   "cell_type": "code",
   "execution_count": 5,
   "id": "75fb7466-9799-4703-8160-b0b3c78deee0",
   "metadata": {},
   "outputs": [],
   "source": [
    "#Wav2Vec2Processor and Wav2Vec2Model are part of the Hugging Face Transformers library, designed for speech processing tasks.\n",
    "#from_pretrained: This method loads a pre-trained Wav2Vec 2.0 model and its corresponding processor from the Hugging Face model hub. In this case, the model facebook/wav2vec2-base is used, which has been trained on large amounts of speech data.\n",
    "#Wav2Vec2Processor handles processing the input audio (waveforms) into a format that the model can use.\n",
    "#Wav2Vec2Model is the core model that extracts features from audio input. This model produces rich embeddings from raw audio signals, which can be used for downstream tasks such as emotion detection.\n",
    "\n",
    "#Gradient checkpointing is memory saving technique used in deep learning to reduce GPU memory usage training \n",
    "\n",
    "\n",
    "#outputs.last_hidden_state: These are the audio features (embeddings) extracted by the Wav2Vec2 model. They are 3D tensors of shape (batch_size, sequence_length, feature_size), where the sequence length corresponds to the length of the audio input.\n",
    "#mean(dim=1): Since we are interested in summarizing the features, we take the mean across the time dimension (dimension 1), producing a 2D tensor of shape (batch_size, feature_size). This gives us a compact representation of the audio features.\n",
    "#.cpu().numpy(): The result is moved back to the CPU (if it was on the GPU) and converted to a NumPy array, making it easier to work with later."
   ]
  },
  {
   "cell_type": "code",
   "execution_count": 6,
   "id": "d6cfc3e3-71ef-4932-83e4-d67bc1989d0a",
   "metadata": {},
   "outputs": [
    {
     "name": "stderr",
     "output_type": "stream",
     "text": [
      "C:\\Users\\prann\\AppData\\Local\\Programs\\Python\\Python312\\Lib\\site-packages\\transformers\\configuration_utils.py:364: UserWarning: Passing `gradient_checkpointing` to a config initialization is deprecated and will be removed in v5 Transformers. Using `model.gradient_checkpointing_enable()` instead, or if you are using the `Trainer` API, pass `gradient_checkpointing=True` in your `TrainingArguments`.\n",
      "  warnings.warn(\n",
      "C:\\Users\\prann\\AppData\\Local\\Programs\\Python\\Python312\\Lib\\site-packages\\transformers\\tokenization_utils_base.py:1601: FutureWarning: `clean_up_tokenization_spaces` was not set. It will be set to `True` by default. This behavior will be depracted in transformers v4.45, and will be then set to `False` by default. For more details check this issue: https://github.com/huggingface/transformers/issues/31884\n",
      "  warnings.warn(\n",
      "Some weights of Wav2Vec2Model were not initialized from the model checkpoint at facebook/wav2vec2-base and are newly initialized: ['wav2vec2.encoder.pos_conv_embed.conv.parametrizations.weight.original0', 'wav2vec2.encoder.pos_conv_embed.conv.parametrizations.weight.original1']\n",
      "You should probably TRAIN this model on a down-stream task to be able to use it for predictions and inference.\n"
     ]
    },
    {
     "name": "stdout",
     "output_type": "stream",
     "text": [
      "Using device: cuda\n"
     ]
    },
    {
     "data": {
      "application/vnd.jupyter.widget-view+json": {
       "model_id": "3514aa3267694d66a82646753e0828c4",
       "version_major": 2,
       "version_minor": 0
      },
      "text/plain": [
       "Extracting Wav2Vec2 features:   0%|          | 0/2800 [00:00<?, ?it/s]"
      ]
     },
     "metadata": {},
     "output_type": "display_data"
    },
    {
     "name": "stderr",
     "output_type": "stream",
     "text": [
      "C:\\Users\\prann\\AppData\\Local\\Programs\\Python\\Python312\\Lib\\site-packages\\transformers\\models\\wav2vec2\\modeling_wav2vec2.py:862: UserWarning: 1Torch was not compiled with flash attention. (Triggered internally at C:\\actions-runner\\_work\\pytorch\\pytorch\\builder\\windows\\pytorch\\aten\\src\\ATen\\native\\transformers\\cuda\\sdp_utils.cpp:555.)\n",
      "  attn_output = torch.nn.functional.scaled_dot_product_attention(\n"
     ]
    },
    {
     "name": "stdout",
     "output_type": "stream",
     "text": [
      "Extracted Wav2Vec2 features shape: torch.Size([2800, 1, 768])\n"
     ]
    },
    {
     "name": "stderr",
     "output_type": "stream",
     "text": [
      "C:\\Users\\prann\\AppData\\Local\\Temp\\ipykernel_7480\\1802177933.py:39: UserWarning: Creating a tensor from a list of numpy.ndarrays is extremely slow. Please consider converting the list to a single numpy.ndarray with numpy.array() before converting to a tensor. (Triggered internally at C:\\actions-runner\\_work\\pytorch\\pytorch\\builder\\windows\\pytorch\\torch\\csrc\\utils\\tensor_new.cpp:281.)\n",
      "  audio_features = torch.tensor(audio_features)#features to be used in subsequent machine learning tasks, such as classification or regression.\n"
     ]
    }
   ],
   "source": [
    "#############Wave2Vec2 FEATURE EXTRACTION\n",
    " #  Used Wav2Vec2 model to extract features from the audio waveforms.\n",
    " # Wav2Vec2 is a pre-trained model that converts audio data into meaningful features,which are more informative for downstream tasks like emotion classification.\n",
    "\n",
    "# Initialize Wav2Vec2 processor and model\n",
    "processor = Wav2Vec2Processor.from_pretrained(\"facebook/wav2vec2-base\")#converts audio wavforms into features\n",
    "wav2vec_model = Wav2Vec2Model.from_pretrained(\"facebook/wav2vec2-base\")#Pre-trained Wav2Vec2 model for extracting features.\n",
    "\n",
    "# Enable gradient checkpointing for the model (it is optional since it is only for reducing the memory usage of GPU\n",
    "wav2vec_model.gradient_checkpointing_enable()#Reduces memory usage during training.\n",
    "\n",
    "\n",
    "\n",
    "###########to check whether cuda is available or not\n",
    "# Move model to appropriate device (GPU if available)\n",
    "device = torch.device(\"cuda\" if torch.cuda.is_available() else \"cpu\")\n",
    "wav2vec_model.to(device)\n",
    "print(f\"Using device: {device}\")\n",
    "############################################\n",
    "\n",
    "\n",
    "\n",
    "\n",
    "###PROCESSES THE AUDIO WAVFORM AND EXTRACT  FEATURES USING Wav2Vec2 MODEL\n",
    "def extract_wav2vec_features(audio_waveforms):\n",
    "    features = []\n",
    "    #here again tdqm is used to view the progresss bar to track the progress\n",
    "    for waveform in tqdm(audio_waveforms, desc=\"Extracting Wav2Vec2 features\"):\n",
    "        #Processor converts each wavform into format moddel expects.It also pad the wavforms and ensures the sample rate matches expected 16000Hz\n",
    "        inputs = processor(waveform, return_tensors=\"pt\", padding=True, sampling_rate=16000)\n",
    "        #all the input tensors are moved to the GPU\n",
    "        inputs = {key: val.to(device) for key, val in inputs.items()}  # Move to GPU if available\n",
    "        with torch.no_grad():\n",
    "            outputs = wav2vec_model(**inputs)\n",
    "        features.append(outputs.last_hidden_state.mean(dim=1).cpu().numpy())  # Extract mean feature across time\n",
    "    return features\n",
    "\n",
    "# Extract features using Wav2Vec2\n",
    "audio_features = extract_wav2vec_features(audio_waveforms)\n",
    "audio_features = torch.tensor(audio_features)#features to be used in subsequent machine learning tasks, such as classification or regression.\n",
    "print(f\"Extracted Wav2Vec2 features shape: {audio_features.shape}\")\n"
   ]
  },
  {
   "cell_type": "code",
   "execution_count": 7,
   "id": "6f73a8e9-3bd3-4abf-8392-ed90994a0d73",
   "metadata": {},
   "outputs": [
    {
     "name": "stdout",
     "output_type": "stream",
     "text": [
      "Training samples: 2520, Testing samples: 280\n"
     ]
    }
   ],
   "source": [
    "#####################TRAIN -TEST SPLIT\n",
    "\n",
    "\n",
    "# Split the data into training and testing sets\n",
    "X_train, X_test, y_train, y_test = train_test_split(\n",
    "    audio_features.cpu().numpy(),  # Use the converted numpy array\n",
    "    encoded_labels,                # Ensure that encoded_labels is defined\n",
    "    test_size=0.1,                 # Use 10% of the data for testing\n",
    "    random_state=42,\n",
    "    stratify=encoded_labels         # Ensure class proportions are maintained\n",
    ")\n",
    "\n",
    "#X_train.shape[0]: This retrieves the number of rows (samples) in the training set.\n",
    "#X_test.shape[0]: This retrieves the number of rows (samples) in the test set.\n",
    "print(f\"Training samples: {X_train.shape[0]}, Testing samples: {X_test.shape[0]}\")\n",
    "\n",
    "# Convert data back to tensors and ensure they are on the correct device\n",
    "X_train_tensor = torch.tensor(X_train, dtype=torch.float32).to(device)\n",
    "y_train_tensor = torch.tensor(y_train, dtype=torch.long).to(device)\n",
    "X_test_tensor = torch.tensor(X_test, dtype=torch.float32).to(device)\n",
    "y_test_tensor = torch.tensor(y_test, dtype=torch.long).to(device)\n",
    "\n",
    "################ Create datasets and loaders\n",
    "from torch.utils.data import TensorDataset, DataLoader\n",
    "#PyTorch's TensorDataset class consolidates input and target data into a single dataset, facilitating easy access to both features and labels during training or testing.\n",
    "train_dataset = TensorDataset(X_train_tensor, y_train_tensor)\n",
    "test_dataset = TensorDataset(X_test_tensor, y_test_tensor)\n",
    "#batch size 16 is chossen since it is typically a good default help in balancing between computational efficiency and memory constraints\n",
    "batch_size = 16\n",
    "train_loader = DataLoader(train_dataset, batch_size=batch_size, shuffle=True)\n",
    "test_loader = DataLoader(test_dataset, batch_size=batch_size)\n"
   ]
  },
  {
   "cell_type": "code",
   "execution_count": 8,
   "id": "5973ecea-5faf-4b90-b57b-1f8335f7e103",
   "metadata": {},
   "outputs": [],
   "source": [
    "from tqdm import tqdm  # For progress bars\n",
    "\n",
    "def train(model, train_loader, criterion, optimizer, device, epochs=10):\n",
    "    model.train()  # Set the model to training mode\n",
    "    for epoch in range(epochs):\n",
    "        running_loss = 0.0\n",
    "        for inputs, labels in tqdm(train_loader, desc=f\"Epoch {epoch+1}/{epochs}\"):\n",
    "            inputs, labels = inputs.to(device), labels.to(device)  # Move data to the correct device\n",
    "            \n",
    "            # Zero the parameter gradients\n",
    "            optimizer.zero_grad()\n",
    "            \n",
    "            # Forward pass\n",
    "            outputs = model(inputs)\n",
    "            \n",
    "            # Compute the loss\n",
    "            loss = criterion(outputs, labels)\n",
    "            \n",
    "            # Backward pass and optimize\n",
    "            loss.backward()\n",
    "            optimizer.step()\n",
    "            \n",
    "            running_loss += loss.item()\n",
    "        \n",
    "        print(f\"Epoch [{epoch+1}/{epochs}], Loss: {running_loss/len(train_loader):.4f}\")\n"
   ]
  },
  {
   "cell_type": "code",
   "execution_count": 9,
   "id": "c5961919-e850-46c6-87a4-4692e889decd",
   "metadata": {},
   "outputs": [
    {
     "name": "stdout",
     "output_type": "stream",
     "text": [
      "Training with learning rate: 0.001\n"
     ]
    },
    {
     "name": "stderr",
     "output_type": "stream",
     "text": [
      "Epoch 1/50: 100%|███████████████████████████████████████████████████████████████████| 158/158 [00:00<00:00, 211.12it/s]\n"
     ]
    },
    {
     "name": "stdout",
     "output_type": "stream",
     "text": [
      "Epoch [1/50], Loss: 1.7288\n"
     ]
    },
    {
     "name": "stderr",
     "output_type": "stream",
     "text": [
      "Epoch 2/50: 100%|███████████████████████████████████████████████████████████████████| 158/158 [00:00<00:00, 404.41it/s]\n"
     ]
    },
    {
     "name": "stdout",
     "output_type": "stream",
     "text": [
      "Epoch [2/50], Loss: 1.0125\n"
     ]
    },
    {
     "name": "stderr",
     "output_type": "stream",
     "text": [
      "Epoch 3/50: 100%|███████████████████████████████████████████████████████████████████| 158/158 [00:00<00:00, 407.09it/s]\n"
     ]
    },
    {
     "name": "stdout",
     "output_type": "stream",
     "text": [
      "Epoch [3/50], Loss: 0.6324\n"
     ]
    },
    {
     "name": "stderr",
     "output_type": "stream",
     "text": [
      "Epoch 4/50: 100%|███████████████████████████████████████████████████████████████████| 158/158 [00:00<00:00, 349.28it/s]\n"
     ]
    },
    {
     "name": "stdout",
     "output_type": "stream",
     "text": [
      "Epoch [4/50], Loss: 0.4389\n"
     ]
    },
    {
     "name": "stderr",
     "output_type": "stream",
     "text": [
      "Epoch 5/50: 100%|███████████████████████████████████████████████████████████████████| 158/158 [00:00<00:00, 339.46it/s]\n"
     ]
    },
    {
     "name": "stdout",
     "output_type": "stream",
     "text": [
      "Epoch [5/50], Loss: 0.3739\n"
     ]
    },
    {
     "name": "stderr",
     "output_type": "stream",
     "text": [
      "Epoch 6/50: 100%|███████████████████████████████████████████████████████████████████| 158/158 [00:00<00:00, 313.66it/s]\n"
     ]
    },
    {
     "name": "stdout",
     "output_type": "stream",
     "text": [
      "Epoch [6/50], Loss: 0.2949\n"
     ]
    },
    {
     "name": "stderr",
     "output_type": "stream",
     "text": [
      "Epoch 7/50: 100%|███████████████████████████████████████████████████████████████████| 158/158 [00:00<00:00, 359.09it/s]\n"
     ]
    },
    {
     "name": "stdout",
     "output_type": "stream",
     "text": [
      "Epoch [7/50], Loss: 0.2609\n"
     ]
    },
    {
     "name": "stderr",
     "output_type": "stream",
     "text": [
      "Epoch 8/50: 100%|███████████████████████████████████████████████████████████████████| 158/158 [00:00<00:00, 370.30it/s]\n"
     ]
    },
    {
     "name": "stdout",
     "output_type": "stream",
     "text": [
      "Epoch [8/50], Loss: 0.2338\n"
     ]
    },
    {
     "name": "stderr",
     "output_type": "stream",
     "text": [
      "Epoch 9/50: 100%|███████████████████████████████████████████████████████████████████| 158/158 [00:00<00:00, 326.02it/s]\n"
     ]
    },
    {
     "name": "stdout",
     "output_type": "stream",
     "text": [
      "Epoch [9/50], Loss: 0.2016\n"
     ]
    },
    {
     "name": "stderr",
     "output_type": "stream",
     "text": [
      "Epoch 10/50: 100%|██████████████████████████████████████████████████████████████████| 158/158 [00:00<00:00, 345.52it/s]\n"
     ]
    },
    {
     "name": "stdout",
     "output_type": "stream",
     "text": [
      "Epoch [10/50], Loss: 0.1710\n"
     ]
    },
    {
     "name": "stderr",
     "output_type": "stream",
     "text": [
      "Epoch 11/50: 100%|██████████████████████████████████████████████████████████████████| 158/158 [00:00<00:00, 330.09it/s]\n"
     ]
    },
    {
     "name": "stdout",
     "output_type": "stream",
     "text": [
      "Epoch [11/50], Loss: 0.1674\n"
     ]
    },
    {
     "name": "stderr",
     "output_type": "stream",
     "text": [
      "Epoch 12/50: 100%|██████████████████████████████████████████████████████████████████| 158/158 [00:00<00:00, 325.55it/s]\n"
     ]
    },
    {
     "name": "stdout",
     "output_type": "stream",
     "text": [
      "Epoch [12/50], Loss: 0.1591\n"
     ]
    },
    {
     "name": "stderr",
     "output_type": "stream",
     "text": [
      "Epoch 13/50: 100%|██████████████████████████████████████████████████████████████████| 158/158 [00:00<00:00, 336.41it/s]\n"
     ]
    },
    {
     "name": "stdout",
     "output_type": "stream",
     "text": [
      "Epoch [13/50], Loss: 0.1373\n"
     ]
    },
    {
     "name": "stderr",
     "output_type": "stream",
     "text": [
      "Epoch 14/50: 100%|██████████████████████████████████████████████████████████████████| 158/158 [00:00<00:00, 347.10it/s]\n"
     ]
    },
    {
     "name": "stdout",
     "output_type": "stream",
     "text": [
      "Epoch [14/50], Loss: 0.1332\n"
     ]
    },
    {
     "name": "stderr",
     "output_type": "stream",
     "text": [
      "Epoch 15/50: 100%|██████████████████████████████████████████████████████████████████| 158/158 [00:00<00:00, 344.90it/s]\n"
     ]
    },
    {
     "name": "stdout",
     "output_type": "stream",
     "text": [
      "Epoch [15/50], Loss: 0.1198\n"
     ]
    },
    {
     "name": "stderr",
     "output_type": "stream",
     "text": [
      "Epoch 16/50: 100%|██████████████████████████████████████████████████████████████████| 158/158 [00:00<00:00, 263.95it/s]\n"
     ]
    },
    {
     "name": "stdout",
     "output_type": "stream",
     "text": [
      "Epoch [16/50], Loss: 0.1125\n"
     ]
    },
    {
     "name": "stderr",
     "output_type": "stream",
     "text": [
      "Epoch 17/50: 100%|██████████████████████████████████████████████████████████████████| 158/158 [00:00<00:00, 323.35it/s]\n"
     ]
    },
    {
     "name": "stdout",
     "output_type": "stream",
     "text": [
      "Epoch [17/50], Loss: 0.1135\n"
     ]
    },
    {
     "name": "stderr",
     "output_type": "stream",
     "text": [
      "Epoch 18/50: 100%|██████████████████████████████████████████████████████████████████| 158/158 [00:00<00:00, 340.03it/s]\n"
     ]
    },
    {
     "name": "stdout",
     "output_type": "stream",
     "text": [
      "Epoch [18/50], Loss: 0.0886\n"
     ]
    },
    {
     "name": "stderr",
     "output_type": "stream",
     "text": [
      "Epoch 19/50: 100%|██████████████████████████████████████████████████████████████████| 158/158 [00:00<00:00, 325.23it/s]\n"
     ]
    },
    {
     "name": "stdout",
     "output_type": "stream",
     "text": [
      "Epoch [19/50], Loss: 0.0850\n"
     ]
    },
    {
     "name": "stderr",
     "output_type": "stream",
     "text": [
      "Epoch 20/50: 100%|██████████████████████████████████████████████████████████████████| 158/158 [00:00<00:00, 341.14it/s]\n"
     ]
    },
    {
     "name": "stdout",
     "output_type": "stream",
     "text": [
      "Epoch [20/50], Loss: 0.0888\n"
     ]
    },
    {
     "name": "stderr",
     "output_type": "stream",
     "text": [
      "Epoch 21/50: 100%|██████████████████████████████████████████████████████████████████| 158/158 [00:00<00:00, 344.85it/s]\n"
     ]
    },
    {
     "name": "stdout",
     "output_type": "stream",
     "text": [
      "Epoch [21/50], Loss: 0.0877\n"
     ]
    },
    {
     "name": "stderr",
     "output_type": "stream",
     "text": [
      "Epoch 22/50: 100%|██████████████████████████████████████████████████████████████████| 158/158 [00:00<00:00, 351.55it/s]\n"
     ]
    },
    {
     "name": "stdout",
     "output_type": "stream",
     "text": [
      "Epoch [22/50], Loss: 0.0697\n"
     ]
    },
    {
     "name": "stderr",
     "output_type": "stream",
     "text": [
      "Epoch 23/50: 100%|██████████████████████████████████████████████████████████████████| 158/158 [00:00<00:00, 361.61it/s]\n"
     ]
    },
    {
     "name": "stdout",
     "output_type": "stream",
     "text": [
      "Epoch [23/50], Loss: 0.0847\n"
     ]
    },
    {
     "name": "stderr",
     "output_type": "stream",
     "text": [
      "Epoch 24/50: 100%|██████████████████████████████████████████████████████████████████| 158/158 [00:00<00:00, 336.45it/s]\n"
     ]
    },
    {
     "name": "stdout",
     "output_type": "stream",
     "text": [
      "Epoch [24/50], Loss: 0.0701\n"
     ]
    },
    {
     "name": "stderr",
     "output_type": "stream",
     "text": [
      "Epoch 25/50: 100%|██████████████████████████████████████████████████████████████████| 158/158 [00:00<00:00, 352.34it/s]\n"
     ]
    },
    {
     "name": "stdout",
     "output_type": "stream",
     "text": [
      "Epoch [25/50], Loss: 0.0685\n"
     ]
    },
    {
     "name": "stderr",
     "output_type": "stream",
     "text": [
      "Epoch 26/50: 100%|██████████████████████████████████████████████████████████████████| 158/158 [00:00<00:00, 326.05it/s]\n"
     ]
    },
    {
     "name": "stdout",
     "output_type": "stream",
     "text": [
      "Epoch [26/50], Loss: 0.0665\n"
     ]
    },
    {
     "name": "stderr",
     "output_type": "stream",
     "text": [
      "Epoch 27/50: 100%|██████████████████████████████████████████████████████████████████| 158/158 [00:00<00:00, 360.73it/s]\n"
     ]
    },
    {
     "name": "stdout",
     "output_type": "stream",
     "text": [
      "Epoch [27/50], Loss: 0.0621\n"
     ]
    },
    {
     "name": "stderr",
     "output_type": "stream",
     "text": [
      "Epoch 28/50: 100%|██████████████████████████████████████████████████████████████████| 158/158 [00:00<00:00, 343.01it/s]\n"
     ]
    },
    {
     "name": "stdout",
     "output_type": "stream",
     "text": [
      "Epoch [28/50], Loss: 0.0749\n"
     ]
    },
    {
     "name": "stderr",
     "output_type": "stream",
     "text": [
      "Epoch 29/50: 100%|██████████████████████████████████████████████████████████████████| 158/158 [00:00<00:00, 333.58it/s]\n"
     ]
    },
    {
     "name": "stdout",
     "output_type": "stream",
     "text": [
      "Epoch [29/50], Loss: 0.0690\n"
     ]
    },
    {
     "name": "stderr",
     "output_type": "stream",
     "text": [
      "Epoch 30/50: 100%|██████████████████████████████████████████████████████████████████| 158/158 [00:00<00:00, 347.13it/s]\n"
     ]
    },
    {
     "name": "stdout",
     "output_type": "stream",
     "text": [
      "Epoch [30/50], Loss: 0.0690\n"
     ]
    },
    {
     "name": "stderr",
     "output_type": "stream",
     "text": [
      "Epoch 31/50: 100%|██████████████████████████████████████████████████████████████████| 158/158 [00:00<00:00, 333.59it/s]\n"
     ]
    },
    {
     "name": "stdout",
     "output_type": "stream",
     "text": [
      "Epoch [31/50], Loss: 0.0474\n"
     ]
    },
    {
     "name": "stderr",
     "output_type": "stream",
     "text": [
      "Epoch 32/50: 100%|██████████████████████████████████████████████████████████████████| 158/158 [00:00<00:00, 340.13it/s]\n"
     ]
    },
    {
     "name": "stdout",
     "output_type": "stream",
     "text": [
      "Epoch [32/50], Loss: 0.0632\n"
     ]
    },
    {
     "name": "stderr",
     "output_type": "stream",
     "text": [
      "Epoch 33/50: 100%|██████████████████████████████████████████████████████████████████| 158/158 [00:00<00:00, 352.60it/s]\n"
     ]
    },
    {
     "name": "stdout",
     "output_type": "stream",
     "text": [
      "Epoch [33/50], Loss: 0.0558\n"
     ]
    },
    {
     "name": "stderr",
     "output_type": "stream",
     "text": [
      "Epoch 34/50: 100%|██████████████████████████████████████████████████████████████████| 158/158 [00:00<00:00, 342.41it/s]\n"
     ]
    },
    {
     "name": "stdout",
     "output_type": "stream",
     "text": [
      "Epoch [34/50], Loss: 0.0555\n"
     ]
    },
    {
     "name": "stderr",
     "output_type": "stream",
     "text": [
      "Epoch 35/50: 100%|██████████████████████████████████████████████████████████████████| 158/158 [00:00<00:00, 359.80it/s]\n"
     ]
    },
    {
     "name": "stdout",
     "output_type": "stream",
     "text": [
      "Epoch [35/50], Loss: 0.0546\n"
     ]
    },
    {
     "name": "stderr",
     "output_type": "stream",
     "text": [
      "Epoch 36/50: 100%|██████████████████████████████████████████████████████████████████| 158/158 [00:00<00:00, 334.92it/s]\n"
     ]
    },
    {
     "name": "stdout",
     "output_type": "stream",
     "text": [
      "Epoch [36/50], Loss: 0.0513\n"
     ]
    },
    {
     "name": "stderr",
     "output_type": "stream",
     "text": [
      "Epoch 37/50: 100%|██████████████████████████████████████████████████████████████████| 158/158 [00:00<00:00, 356.80it/s]\n"
     ]
    },
    {
     "name": "stdout",
     "output_type": "stream",
     "text": [
      "Epoch [37/50], Loss: 0.0556\n"
     ]
    },
    {
     "name": "stderr",
     "output_type": "stream",
     "text": [
      "Epoch 38/50: 100%|██████████████████████████████████████████████████████████████████| 158/158 [00:00<00:00, 347.75it/s]\n"
     ]
    },
    {
     "name": "stdout",
     "output_type": "stream",
     "text": [
      "Epoch [38/50], Loss: 0.0683\n"
     ]
    },
    {
     "name": "stderr",
     "output_type": "stream",
     "text": [
      "Epoch 39/50: 100%|██████████████████████████████████████████████████████████████████| 158/158 [00:00<00:00, 337.33it/s]\n"
     ]
    },
    {
     "name": "stdout",
     "output_type": "stream",
     "text": [
      "Epoch [39/50], Loss: 0.0444\n"
     ]
    },
    {
     "name": "stderr",
     "output_type": "stream",
     "text": [
      "Epoch 40/50: 100%|██████████████████████████████████████████████████████████████████| 158/158 [00:00<00:00, 385.26it/s]\n"
     ]
    },
    {
     "name": "stdout",
     "output_type": "stream",
     "text": [
      "Epoch [40/50], Loss: 0.0548\n"
     ]
    },
    {
     "name": "stderr",
     "output_type": "stream",
     "text": [
      "Epoch 41/50: 100%|██████████████████████████████████████████████████████████████████| 158/158 [00:00<00:00, 405.47it/s]\n"
     ]
    },
    {
     "name": "stdout",
     "output_type": "stream",
     "text": [
      "Epoch [41/50], Loss: 0.0681\n"
     ]
    },
    {
     "name": "stderr",
     "output_type": "stream",
     "text": [
      "Epoch 42/50: 100%|██████████████████████████████████████████████████████████████████| 158/158 [00:00<00:00, 372.64it/s]\n"
     ]
    },
    {
     "name": "stdout",
     "output_type": "stream",
     "text": [
      "Epoch [42/50], Loss: 0.0571\n"
     ]
    },
    {
     "name": "stderr",
     "output_type": "stream",
     "text": [
      "Epoch 43/50: 100%|██████████████████████████████████████████████████████████████████| 158/158 [00:00<00:00, 401.73it/s]\n"
     ]
    },
    {
     "name": "stdout",
     "output_type": "stream",
     "text": [
      "Epoch [43/50], Loss: 0.0596\n"
     ]
    },
    {
     "name": "stderr",
     "output_type": "stream",
     "text": [
      "Epoch 44/50: 100%|██████████████████████████████████████████████████████████████████| 158/158 [00:00<00:00, 380.65it/s]\n"
     ]
    },
    {
     "name": "stdout",
     "output_type": "stream",
     "text": [
      "Epoch [44/50], Loss: 0.0491\n"
     ]
    },
    {
     "name": "stderr",
     "output_type": "stream",
     "text": [
      "Epoch 45/50: 100%|██████████████████████████████████████████████████████████████████| 158/158 [00:00<00:00, 405.37it/s]\n"
     ]
    },
    {
     "name": "stdout",
     "output_type": "stream",
     "text": [
      "Epoch [45/50], Loss: 0.0385\n"
     ]
    },
    {
     "name": "stderr",
     "output_type": "stream",
     "text": [
      "Epoch 46/50: 100%|██████████████████████████████████████████████████████████████████| 158/158 [00:00<00:00, 405.79it/s]\n"
     ]
    },
    {
     "name": "stdout",
     "output_type": "stream",
     "text": [
      "Epoch [46/50], Loss: 0.0423\n"
     ]
    },
    {
     "name": "stderr",
     "output_type": "stream",
     "text": [
      "Epoch 47/50: 100%|██████████████████████████████████████████████████████████████████| 158/158 [00:00<00:00, 378.83it/s]\n"
     ]
    },
    {
     "name": "stdout",
     "output_type": "stream",
     "text": [
      "Epoch [47/50], Loss: 0.0464\n"
     ]
    },
    {
     "name": "stderr",
     "output_type": "stream",
     "text": [
      "Epoch 48/50: 100%|██████████████████████████████████████████████████████████████████| 158/158 [00:00<00:00, 410.45it/s]\n"
     ]
    },
    {
     "name": "stdout",
     "output_type": "stream",
     "text": [
      "Epoch [48/50], Loss: 0.0476\n"
     ]
    },
    {
     "name": "stderr",
     "output_type": "stream",
     "text": [
      "Epoch 49/50: 100%|██████████████████████████████████████████████████████████████████| 158/158 [00:00<00:00, 389.97it/s]\n"
     ]
    },
    {
     "name": "stdout",
     "output_type": "stream",
     "text": [
      "Epoch [49/50], Loss: 0.0462\n"
     ]
    },
    {
     "name": "stderr",
     "output_type": "stream",
     "text": [
      "Epoch 50/50: 100%|██████████████████████████████████████████████████████████████████| 158/158 [00:00<00:00, 362.43it/s]\n"
     ]
    },
    {
     "name": "stdout",
     "output_type": "stream",
     "text": [
      "Epoch [50/50], Loss: 0.0459\n"
     ]
    },
    {
     "ename": "NameError",
     "evalue": "name 'evaluate' is not defined",
     "output_type": "error",
     "traceback": [
      "\u001b[1;31m---------------------------------------------------------------------------\u001b[0m",
      "\u001b[1;31mNameError\u001b[0m                                 Traceback (most recent call last)",
      "Cell \u001b[1;32mIn[9], line 53\u001b[0m\n\u001b[0;32m     50\u001b[0m train(model, train_loader, criterion, optimizer, device, epochs\u001b[38;5;241m=\u001b[39m\u001b[38;5;241m50\u001b[39m)\n\u001b[0;32m     52\u001b[0m \u001b[38;5;66;03m# Evaluate the model on the test set\u001b[39;00m\n\u001b[1;32m---> 53\u001b[0m acc \u001b[38;5;241m=\u001b[39m \u001b[43mevaluate\u001b[49m(model, test_loader, device)\n\u001b[0;32m     55\u001b[0m \u001b[38;5;66;03m# Track the best accuracy and corresponding learning rate\u001b[39;00m\n\u001b[0;32m     56\u001b[0m \u001b[38;5;28;01mif\u001b[39;00m acc \u001b[38;5;241m>\u001b[39m best_acc:\n",
      "\u001b[1;31mNameError\u001b[0m: name 'evaluate' is not defined"
     ]
    }
   ],
   "source": [
    "import torch.optim as optim  # Importing the optimizer\n",
    "import torch.nn as nn  # Importing necessary modules for neural networks, layer of neural network\n",
    "##for simple feed forward neural network\n",
    "##mAPS Wav2Vec features to emtotion labels usin fully connected layers\n",
    "# Define the EmotionClassifier model class if not already defined\n",
    "class EmotionClassifier(nn.Module):\n",
    "    def __init__(self, input_size, num_classes):\n",
    "        super(EmotionClassifier, self).__init__()\n",
    "        self.fc = nn.Sequential(\n",
    "            nn.Linear(input_size, 128),# Input to hidden layer with 128 neurons\n",
    "            nn.ReLU(), # Activation function (ReLU)\n",
    "            nn.Dropout(0.3), # Dropout to reduce overfitting (30% neurons dropped)\n",
    "            nn.Linear(128, 64), # Hidden to another hidden layer with 64 neurons\n",
    "            nn.ReLU(), # Activation function (ReLU)\n",
    "            nn.Dropout(0.3),# randomly drops neurons during training to prevent overfitting and improve model generalization.\n",
    "            nn.Linear(64, num_classes) # Final output layer (num_classes is the number of emotion classes)\n",
    "        )\n",
    "    \n",
    "    def forward(self, x):\n",
    "        x = x.view(x.size(0), -1)# Reshape the input to a 2D tensor (batch_size, features)\n",
    "        return self.fc(x)# Pass the input through the sequentially defined layers\n",
    "        ##defined layers sequence linear layer-> ReLu -> Dropout\n",
    "\n",
    "# Assuming audio_features and label_encoder are already defined from previous code\n",
    "input_size = audio_features.shape[-1]  # Feature size from Wav2Vec2 features\n",
    "num_classes = len(label_encoder.classes_)  # Number of classes (emotions)\n",
    "\n",
    "# Instantiate the model\n",
    "model = EmotionClassifier(input_size=input_size, num_classes=num_classes)\n",
    "model.to(device)  # Move model to the correct device (GPU or CPU)\n",
    "\n",
    "# Define the loss function\n",
    "'''CrossEntropyLoss: This is a loss function commonly used for classification problems. It combines softmax and negative\n",
    "log-likelihood to measure the error between the predicted and actual class probabilities.'''\n",
    "criterion = nn.CrossEntropyLoss()\n",
    "\n",
    "# Learning rate tuning\n",
    "learning_rates = [1e-3, 1e-4, 1e-5]  # Different learning rates to test\n",
    "best_acc = 0\n",
    "best_lr = 0\n",
    "\n",
    "'''\n",
    "Optimizer setup: The code initializes the Adam optimizer for each learning rate.\n",
    "Training: Calls a train function (assumed to be defined elsewhere) to train the model for 10 epochs with the current learning rate.\n",
    "Evaluation: Calls an evaluate function (also assumed to be defined) to evaluate the model’s accuracy on the test set.\n",
    "Best accuracy tracking: The code tracks the highest accuracy (best_acc) and stores the corresponding learning rate (best_lr).'''\n",
    "for lr in learning_rates:\n",
    "    optimizer = optim.Adam(model.parameters(), lr=lr)  # Initialize the optimizer with the current learning rate\n",
    "    print(f\"Training with learning rate: {lr}\")\n",
    "    \n",
    "    # Train the model for the specified number of epochs\n",
    "    train(model, train_loader, criterion, optimizer, device, epochs=50)\n",
    "    \n",
    "    # Evaluate the model on the test set\n",
    "    acc = evaluate(model, test_loader, device)\n",
    "    \n",
    "    # Track the best accuracy and corresponding learning rate\n",
    "    if acc > best_acc:\n",
    "        best_acc = acc\n",
    "        best_lr = lr\n",
    "\n",
    "# Output the best learning rate and accuracy\n",
    "print(f\"Best learning rate: {best_lr}, Accuracy: {best_acc}%\")\n"
   ]
  },
  {
   "cell_type": "code",
   "execution_count": 10,
   "id": "43036c19-3cb6-4dcb-94c8-fc066a0e7b5e",
   "metadata": {},
   "outputs": [
    {
     "name": "stderr",
     "output_type": "stream",
     "text": [
      "Evaluating: 100%|█████████████████████████████████████████████████████████████████████| 18/18 [00:00<00:00, 207.95it/s]"
     ]
    },
    {
     "name": "stdout",
     "output_type": "stream",
     "text": [
      "Test Accuracy: 98.93%\n"
     ]
    },
    {
     "name": "stderr",
     "output_type": "stream",
     "text": [
      "\n"
     ]
    }
   ],
   "source": [
    "#########MEASURE THE PERFORMANCE OF TRAINED MODEL\n",
    "def evaluate(model, test_loader, device):\n",
    "    model.eval()#it enables certain layers like dropout and batch normalization\n",
    "    correct = 0\n",
    "    total = 0\n",
    "    with torch.no_grad():#seful for inference because it saves memory and computation time by not tracking gradients, which are only needed during training for backpropagation.\n",
    "        for inputs, labels in tqdm(test_loader, desc=\"Evaluating\"):\n",
    "            inputs, labels = inputs.to(device), labels.to(device)\n",
    "            outputs = model(inputs)#outputs represent the predicted scores for each class.\n",
    "            _, predicted = torch.max(outputs, 1)#here 1 specifies that the operation is performed along the class dimension\n",
    "            total += labels.size(0)#tracks the total number of samples evaluated, which is incremented by the batch size\n",
    "            correct += (predicted == labels).sum().item()#sums how many predictions were correct \n",
    "    #percentage of correct predictions out of the total predictions made\n",
    "    accuracy = 100 * correct / total\n",
    "    print(f\"Test Accuracy: {accuracy:.2f}%\")\n",
    "\n",
    "# Evaluate the model\n",
    "evaluate(model, test_loader, device)\n"
   ]
  },
  {
   "cell_type": "code",
   "execution_count": null,
   "id": "9df112e6-0000-446e-aff3-a9078f55d21f",
   "metadata": {},
   "outputs": [],
   "source": [
    "# model: The neural network model.\n",
    "# train_loader: DataLoader for the training data.\n",
    "# test_loader: DataLoader for the validation data.\n",
    "# criterion: The loss function (e.g., CrossEntropyLoss).\n",
    "# optimizer: Optimizer to update the model’s parameters (e.g., Adam).\n",
    "# device: GPU or CPU where the computations will take place.\n",
    "# epochs: The number of training iterations over the entire dataset (default is 10)."
   ]
  },
  {
   "cell_type": "code",
   "execution_count": 11,
   "id": "c27c0a92-a090-4942-a710-d369647edf6f",
   "metadata": {
    "scrolled": true
   },
   "outputs": [
    {
     "name": "stdout",
     "output_type": "stream",
     "text": [
      "Epoch [1/115], Training Loss: 0.0399, Validation Loss: 0.0105\n",
      "Epoch [2/115], Training Loss: 0.0241, Validation Loss: 0.0069\n",
      "Epoch [3/115], Training Loss: 0.0145, Validation Loss: 0.0080\n",
      "Epoch [4/115], Training Loss: 0.0164, Validation Loss: 0.0095\n",
      "Epoch [5/115], Training Loss: 0.0148, Validation Loss: 0.0073\n",
      "Epoch [6/115], Training Loss: 0.0102, Validation Loss: 0.0075\n",
      "Epoch [7/115], Training Loss: 0.0133, Validation Loss: 0.0087\n",
      "Epoch [8/115], Training Loss: 0.0125, Validation Loss: 0.0096\n",
      "Epoch [9/115], Training Loss: 0.0147, Validation Loss: 0.0084\n",
      "Epoch [10/115], Training Loss: 0.0131, Validation Loss: 0.0089\n",
      "Epoch [11/115], Training Loss: 0.0101, Validation Loss: 0.0081\n",
      "Epoch [12/115], Training Loss: 0.0119, Validation Loss: 0.0079\n",
      "Epoch [13/115], Training Loss: 0.0152, Validation Loss: 0.0092\n",
      "Epoch [14/115], Training Loss: 0.0119, Validation Loss: 0.0105\n",
      "Epoch [15/115], Training Loss: 0.0109, Validation Loss: 0.0088\n",
      "Epoch [16/115], Training Loss: 0.0139, Validation Loss: 0.0088\n",
      "Epoch [17/115], Training Loss: 0.0122, Validation Loss: 0.0084\n",
      "Epoch [18/115], Training Loss: 0.0103, Validation Loss: 0.0061\n",
      "Epoch [19/115], Training Loss: 0.0173, Validation Loss: 0.0038\n",
      "Epoch [20/115], Training Loss: 0.0106, Validation Loss: 0.0035\n",
      "Epoch [21/115], Training Loss: 0.0104, Validation Loss: 0.0076\n",
      "Epoch [22/115], Training Loss: 0.0131, Validation Loss: 0.0101\n",
      "Epoch [23/115], Training Loss: 0.0085, Validation Loss: 0.0057\n",
      "Epoch [24/115], Training Loss: 0.0101, Validation Loss: 0.0126\n",
      "Epoch [25/115], Training Loss: 0.0094, Validation Loss: 0.0109\n",
      "Epoch [26/115], Training Loss: 0.0107, Validation Loss: 0.0103\n",
      "Epoch [27/115], Training Loss: 0.0106, Validation Loss: 0.0197\n",
      "Epoch [28/115], Training Loss: 0.0085, Validation Loss: 0.0181\n",
      "Epoch [29/115], Training Loss: 0.0125, Validation Loss: 0.0114\n",
      "Epoch [30/115], Training Loss: 0.0138, Validation Loss: 0.0070\n",
      "Epoch [31/115], Training Loss: 0.0092, Validation Loss: 0.0124\n",
      "Epoch [32/115], Training Loss: 0.0103, Validation Loss: 0.0082\n",
      "Epoch [33/115], Training Loss: 0.0062, Validation Loss: 0.0066\n",
      "Epoch [34/115], Training Loss: 0.0077, Validation Loss: 0.0129\n",
      "Epoch [35/115], Training Loss: 0.0090, Validation Loss: 0.0044\n",
      "Epoch [36/115], Training Loss: 0.0086, Validation Loss: 0.0052\n",
      "Epoch [37/115], Training Loss: 0.0139, Validation Loss: 0.0052\n",
      "Epoch [38/115], Training Loss: 0.0129, Validation Loss: 0.0084\n",
      "Epoch [39/115], Training Loss: 0.0131, Validation Loss: 0.0138\n",
      "Epoch [40/115], Training Loss: 0.0090, Validation Loss: 0.0072\n",
      "Epoch [41/115], Training Loss: 0.0090, Validation Loss: 0.0102\n",
      "Epoch [42/115], Training Loss: 0.0093, Validation Loss: 0.0063\n",
      "Epoch [43/115], Training Loss: 0.0094, Validation Loss: 0.0067\n",
      "Epoch [44/115], Training Loss: 0.0102, Validation Loss: 0.0062\n",
      "Epoch [45/115], Training Loss: 0.0091, Validation Loss: 0.0070\n",
      "Epoch [46/115], Training Loss: 0.0075, Validation Loss: 0.0066\n",
      "Epoch [47/115], Training Loss: 0.0112, Validation Loss: 0.0042\n",
      "Epoch [48/115], Training Loss: 0.0121, Validation Loss: 0.0076\n",
      "Epoch [49/115], Training Loss: 0.0081, Validation Loss: 0.0056\n",
      "Epoch [50/115], Training Loss: 0.0090, Validation Loss: 0.0077\n",
      "Epoch [51/115], Training Loss: 0.0116, Validation Loss: 0.0069\n",
      "Epoch [52/115], Training Loss: 0.0127, Validation Loss: 0.0081\n",
      "Epoch [53/115], Training Loss: 0.0128, Validation Loss: 0.0044\n",
      "Epoch [54/115], Training Loss: 0.0083, Validation Loss: 0.0101\n",
      "Epoch [55/115], Training Loss: 0.0068, Validation Loss: 0.0130\n",
      "Epoch [56/115], Training Loss: 0.0063, Validation Loss: 0.0050\n",
      "Epoch [57/115], Training Loss: 0.0110, Validation Loss: 0.0105\n",
      "Epoch [58/115], Training Loss: 0.0083, Validation Loss: 0.0090\n",
      "Epoch [59/115], Training Loss: 0.0084, Validation Loss: 0.0067\n",
      "Epoch [60/115], Training Loss: 0.0078, Validation Loss: 0.0118\n",
      "Epoch [61/115], Training Loss: 0.0067, Validation Loss: 0.0065\n",
      "Epoch [62/115], Training Loss: 0.0059, Validation Loss: 0.0054\n",
      "Epoch [63/115], Training Loss: 0.0071, Validation Loss: 0.0119\n",
      "Epoch [64/115], Training Loss: 0.0086, Validation Loss: 0.0030\n",
      "Epoch [65/115], Training Loss: 0.0065, Validation Loss: 0.0095\n",
      "Epoch [66/115], Training Loss: 0.0126, Validation Loss: 0.0099\n",
      "Epoch [67/115], Training Loss: 0.0072, Validation Loss: 0.0071\n",
      "Epoch [68/115], Training Loss: 0.0080, Validation Loss: 0.0026\n",
      "Epoch [69/115], Training Loss: 0.0111, Validation Loss: 0.0030\n",
      "Epoch [70/115], Training Loss: 0.0078, Validation Loss: 0.0091\n",
      "Epoch [71/115], Training Loss: 0.0060, Validation Loss: 0.0046\n",
      "Epoch [72/115], Training Loss: 0.0070, Validation Loss: 0.0082\n",
      "Epoch [73/115], Training Loss: 0.0065, Validation Loss: 0.0113\n",
      "Epoch [74/115], Training Loss: 0.0101, Validation Loss: 0.0088\n",
      "Epoch [75/115], Training Loss: 0.0057, Validation Loss: 0.0084\n",
      "Epoch [76/115], Training Loss: 0.0108, Validation Loss: 0.0124\n",
      "Epoch [77/115], Training Loss: 0.0074, Validation Loss: 0.0045\n",
      "Epoch [78/115], Training Loss: 0.0090, Validation Loss: 0.0088\n",
      "Epoch [79/115], Training Loss: 0.0079, Validation Loss: 0.0061\n",
      "Epoch [80/115], Training Loss: 0.0065, Validation Loss: 0.0088\n",
      "Epoch [81/115], Training Loss: 0.0091, Validation Loss: 0.0044\n",
      "Epoch [82/115], Training Loss: 0.0080, Validation Loss: 0.0106\n",
      "Epoch [83/115], Training Loss: 0.0115, Validation Loss: 0.0039\n",
      "Epoch [84/115], Training Loss: 0.0107, Validation Loss: 0.0028\n",
      "Epoch [85/115], Training Loss: 0.0077, Validation Loss: 0.0033\n",
      "Epoch [86/115], Training Loss: 0.0078, Validation Loss: 0.0048\n",
      "Epoch [87/115], Training Loss: 0.0097, Validation Loss: 0.0028\n",
      "Epoch [88/115], Training Loss: 0.0057, Validation Loss: 0.0047\n",
      "Epoch [89/115], Training Loss: 0.0048, Validation Loss: 0.0057\n",
      "Epoch [90/115], Training Loss: 0.0050, Validation Loss: 0.0037\n",
      "Epoch [91/115], Training Loss: 0.0079, Validation Loss: 0.0072\n",
      "Epoch [92/115], Training Loss: 0.0072, Validation Loss: 0.0041\n",
      "Epoch [93/115], Training Loss: 0.0070, Validation Loss: 0.0052\n",
      "Epoch [94/115], Training Loss: 0.0069, Validation Loss: 0.0069\n",
      "Epoch [95/115], Training Loss: 0.0070, Validation Loss: 0.0070\n",
      "Epoch [96/115], Training Loss: 0.0058, Validation Loss: 0.0105\n",
      "Epoch [97/115], Training Loss: 0.0068, Validation Loss: 0.0059\n",
      "Epoch [98/115], Training Loss: 0.0065, Validation Loss: 0.0102\n",
      "Epoch [99/115], Training Loss: 0.0051, Validation Loss: 0.0116\n",
      "Epoch [100/115], Training Loss: 0.0044, Validation Loss: 0.0039\n",
      "Epoch [101/115], Training Loss: 0.0091, Validation Loss: 0.0028\n",
      "Epoch [102/115], Training Loss: 0.0074, Validation Loss: 0.0069\n",
      "Epoch [103/115], Training Loss: 0.0112, Validation Loss: 0.0071\n",
      "Epoch [104/115], Training Loss: 0.0072, Validation Loss: 0.0071\n",
      "Epoch [105/115], Training Loss: 0.0073, Validation Loss: 0.0042\n",
      "Epoch [106/115], Training Loss: 0.0092, Validation Loss: 0.0086\n",
      "Epoch [107/115], Training Loss: 0.0074, Validation Loss: 0.0020\n",
      "Epoch [108/115], Training Loss: 0.0114, Validation Loss: 0.0108\n",
      "Epoch [109/115], Training Loss: 0.0092, Validation Loss: 0.0091\n",
      "Epoch [110/115], Training Loss: 0.0110, Validation Loss: 0.0059\n",
      "Epoch [111/115], Training Loss: 0.0038, Validation Loss: 0.0099\n",
      "Epoch [112/115], Training Loss: 0.0051, Validation Loss: 0.0074\n",
      "Epoch [113/115], Training Loss: 0.0068, Validation Loss: 0.0051\n",
      "Epoch [114/115], Training Loss: 0.0047, Validation Loss: 0.0057\n",
      "Epoch [115/115], Training Loss: 0.0064, Validation Loss: 0.0065\n"
     ]
    },
    {
     "data": {
      "image/png": "[encoded data removed]",
      "text/plain": [
       "<Figure size 640x480 with 1 Axes>"
      ]
     },
     "metadata": {},
     "output_type": "display_data"
    }
   ],
   "source": [
    "##############TO TRACK THE LOSS HISTORY DURING TRAINING AND VALIDATION\n",
    "import matplotlib.pyplot as plt\n",
    "# Function to train the model and track loss history for both training and validation\n",
    "def train_and_track_loss(model, train_loader, test_loader, criterion, optimizer, device, epochs=10):\n",
    "    train_loss_history = []\n",
    "    val_loss_history = []\n",
    "    #loop through the number of epochs (default :10)\n",
    "    for epoch in range(epochs):\n",
    "         # Set the model to training mode to enable gradient computation and dropout\n",
    "        model.train()\n",
    "        running_loss = 0.0 # Accumulates the total loss for the current epoch\n",
    "        for inputs, labels in train_loader:\n",
    "            inputs, labels = inputs.to(device), labels.to(device)\n",
    "            optimizer.zero_grad()\n",
    "            outputs = model(inputs)\n",
    "            loss = criterion(outputs, labels)\n",
    "            loss.backward()\n",
    "            optimizer.step()\n",
    "            running_loss += loss.item()\n",
    "        \n",
    "        train_loss = running_loss / len(train_loader)\n",
    "        train_loss_history.append(train_loss)\n",
    "\n",
    "        # Validation Loss\n",
    "        model.eval()\n",
    "        val_loss = 0.0\n",
    "        with torch.no_grad():\n",
    "            for inputs, labels in test_loader:\n",
    "                inputs, labels = inputs.to(device), labels.to(device)\n",
    "                outputs = model(inputs)\n",
    "                loss = criterion(outputs, labels)\n",
    "                val_loss += loss.item()\n",
    "\n",
    "        val_loss = val_loss / len(test_loader)\n",
    "        val_loss_history.append(val_loss)\n",
    "\n",
    "        print(f\"Epoch [{epoch+1}/{epochs}], Training Loss: {train_loss:.4f}, Validation Loss: {val_loss:.4f}\")\n",
    "    \n",
    "    return train_loss_history, val_loss_history\n",
    "\n",
    "#  Optimizer: Using Adam optimizer with a reduced learning rate of 1e-4 for stable training\n",
    "optimizer = optim.Adam(model.parameters(), lr=1e-4)  # Reduced learning rate\n",
    "\n",
    "# Train and plot the loss history\n",
    "train_loss_history, val_loss_history = train_and_track_loss(model, train_loader, test_loader, criterion, optimizer, device, epochs=115)\n",
    "#model,  # The model to train\n",
    "    #train_loader,  # DataLoader for training data\n",
    "    #test_loader,  # DataLoader for validation data\n",
    "    #criterion,  # Loss function (e.g., CrossEntropyLoss)\n",
    "    #optimizer,  # Optimizer (e.g., Adam)\n",
    "    #device,  # Device (CPU or GPU)\n",
    "    #epochs=115  # Number of training epochs\n",
    "#plot the training and validation over epochs to visualize learning\n",
    "plt.plot(train_loss_history, label='Training Loss')#training loss curve \n",
    "plt.plot(val_loss_history, label='Validation Loss')#validation loss curve\n",
    "plt.xlabel('Epoch')#label for x-axis\n",
    "plt.ylabel('Loss')#label for y-axis\n",
    "plt.title('Training vs Validation Loss')#title of the plot\n",
    "plt.legend()#display the legend\n",
    "plt.show()#show the plot\n"
   ]
  },
  {
   "cell_type": "code",
   "execution_count": 12,
   "id": "5c1d3c3e-a8ad-4cba-b870-9514bba195e6",
   "metadata": {},
   "outputs": [
    {
     "name": "stdout",
     "output_type": "stream",
     "text": [
      "Model saved successfully.\n"
     ]
    }
   ],
   "source": [
    "###########SAVING THE MODEL###############\n",
    "# Save the model's state dictionary\n",
    "torch.save(model.state_dict(), 'emotion_classifier.pth')\n",
    "print(\"Model saved successfully.\")\n"
   ]
  },
  {
   "cell_type": "code",
   "execution_count": 20,
   "id": "16b70a90-0d28-4f0a-a890-a74c6eb4670f",
   "metadata": {},
   "outputs": [
    {
     "name": "stdout",
     "output_type": "stream",
     "text": [
      "Model loaded successfully.\n"
     ]
    },
    {
     "name": "stderr",
     "output_type": "stream",
     "text": [
      "C:\\Users\\prann\\AppData\\Local\\Temp\\ipykernel_7480\\140815269.py:4: FutureWarning: You are using `torch.load` with `weights_only=False` (the current default value), which uses the default pickle module implicitly. It is possible to construct malicious pickle data which will execute arbitrary code during unpickling (See https://github.com/pytorch/pytorch/blob/main/SECURITY.md#untrusted-models for more details). In a future release, the default value for `weights_only` will be flipped to `True`. This limits the functions that could be executed during unpickling. Arbitrary objects will no longer be allowed to be loaded via this mode unless they are explicitly allowlisted by the user via `torch.serialization.add_safe_globals`. We recommend you start setting `weights_only=True` for any use case where you don't have full control of the loaded file. Please open an issue on GitHub for any issues related to this experimental feature.\n",
      "  loaded_model.load_state_dict(torch.load('emotion_classifier.pth'))\n"
     ]
    }
   ],
   "source": [
    "########################LOADING THE MODEL\n",
    "# Load the model's state dictionary\n",
    "loaded_model = EmotionClassifier(input_size=input_size, num_classes=num_classes)\n",
    "loaded_model.load_state_dict(torch.load('emotion_classifier.pth'))\n",
    "loaded_model.to(device)\n",
    "loaded_model.eval()  # Set the model to evaluation mode\n",
    "print(\"Model loaded successfully.\")\n"
   ]
  },
  {
   "cell_type": "code",
   "execution_count": 21,
   "id": "15c0478f-7e06-453a-9b80-d1defad4200a",
   "metadata": {},
   "outputs": [
    {
     "name": "stderr",
     "output_type": "stream",
     "text": [
      "C:\\Users\\prann\\AppData\\Local\\Temp\\ipykernel_7480\\411766794.py:9: FutureWarning: You are using `torch.load` with `weights_only=False` (the current default value), which uses the default pickle module implicitly. It is possible to construct malicious pickle data which will execute arbitrary code during unpickling (See https://github.com/pytorch/pytorch/blob/main/SECURITY.md#untrusted-models for more details). In a future release, the default value for `weights_only` will be flipped to `True`. This limits the functions that could be executed during unpickling. Arbitrary objects will no longer be allowed to be loaded via this mode unless they are explicitly allowlisted by the user via `torch.serialization.add_safe_globals`. We recommend you start setting `weights_only=True` for any use case where you don't have full control of the loaded file. Please open an issue on GitHub for any issues related to this experimental feature.\n",
      "  model.load_state_dict(torch.load('emotion_classifier.pth'))\n"
     ]
    },
    {
     "data": {
      "text/plain": [
       "EmotionClassifier(\n",
       "  (fc): Sequential(\n",
       "    (0): Linear(in_features=768, out_features=128, bias=True)\n",
       "    (1): ReLU()\n",
       "    (2): Dropout(p=0.3, inplace=False)\n",
       "    (3): Linear(in_features=128, out_features=64, bias=True)\n",
       "    (4): ReLU()\n",
       "    (5): Dropout(p=0.3, inplace=False)\n",
       "    (6): Linear(in_features=64, out_features=7, bias=True)\n",
       "  )\n",
       ")"
      ]
     },
     "execution_count": 21,
     "metadata": {},
     "output_type": "execute_result"
    }
   ],
   "source": [
    "#######MODEL SAVING AND LOADING \n",
    "\n",
    "#delpoy model \n",
    "# Save the trained model\n",
    "torch.save(model.state_dict(), 'emotion_classifier.pth')\n",
    "\n",
    "# To load it back\n",
    "model = EmotionClassifier(input_size=audio_features.shape[-1], num_classes=len(label_encoder.classes_))\n",
    "model.load_state_dict(torch.load('emotion_classifier.pth'))\n",
    "model.eval()\n"
   ]
  },
  {
   "cell_type": "code",
   "execution_count": 25,
   "id": "4f523289-c93a-490d-a69b-5d2afa6b0498",
   "metadata": {},
   "outputs": [
    {
     "data": {
      "image/png": "[encoded data removed]",
      "text/plain": [
       "<Figure size 640x480 with 2 Axes>"
      ]
     },
     "metadata": {},
     "output_type": "display_data"
    }
   ],
   "source": [
    "#############CONFUSION MATRIX FOR DETAILED EVALUATION\n",
    "from sklearn.metrics import confusion_matrix, ConfusionMatrixDisplay\n",
    "import matplotlib.pyplot as plt\n",
    "\n",
    "# Ensure tensors and model are on the same device\n",
    "device = torch.device(\"cuda\" if torch.cuda.is_available() else \"cpu\")\n",
    "model.to(device)  # Move model to the correct device\n",
    "\n",
    "# Get true and predicted labels\n",
    "y_true = y_test_tensor.cpu().numpy()  # Convert true labels to numpy (for sklearn compatibility)\n",
    "y_pred = []\n",
    "\n",
    "# Get predictions for the test set\n",
    "with torch.no_grad():\n",
    "    for inputs in X_test_tensor:\n",
    "        inputs = inputs.to(device)  # Move inputs to the same device as the model\n",
    "        outputs = model(inputs.unsqueeze(0))  # Add batch dimension with unsqueeze\n",
    "        _, predicted = torch.max(outputs, 1)  # Get the predicted class\n",
    "        y_pred.append(predicted.item())  # Append the prediction\n",
    "\n",
    "# Generate confusion matrix\n",
    "cm = confusion_matrix(y_true, y_pred)\n",
    "disp = ConfusionMatrixDisplay(confusion_matrix=cm, display_labels=label_encoder.classes_)\n",
    "\n",
    "# Plot confusion matrix\n",
    "disp.plot(cmap='viridis', xticks_rotation='vertical')\n",
    "plt.title('Confusion Matrix')\n",
    "plt.show()\n",
    "\n",
    "\n"
   ]
  },
  {
   "cell_type": "code",
   "execution_count": 26,
   "id": "ed80eb68-a58e-430b-9180-d2187f2f1ec6",
   "metadata": {},
   "outputs": [
    {
     "name": "stderr",
     "output_type": "stream",
     "text": [
      "C:\\Users\\prann\\AppData\\Local\\Temp\\ipykernel_7480\\1491864658.py:28: UserWarning: A window was not provided. A rectangular window will be applied.Please provide the same window used by stft to make the inversion lossless.To suppress this warning and use a rectangular window, explicitly set `window=torch.ones(n_fft, device=<device>)`. (Triggered internally at C:\\actions-runner\\_work\\pytorch\\pytorch\\builder\\windows\\pytorch\\aten\\src\\ATen\\native\\SpectralOps.cpp:1028.)\n",
      "  waveform_stretched = torch.istft(\n",
      "C:\\Users\\prann\\AppData\\Local\\Temp\\ipykernel_7480\\1491864658.py:28: UserWarning: The length of signal is shorter than the length parameter. Result is being padded with zeros in the tail. Please check your center and hop_length settings. (Triggered internally at C:\\actions-runner\\_work\\pytorch\\pytorch\\builder\\windows\\pytorch\\aten\\src\\ATen\\native\\SpectralOps.cpp:1190.)\n",
      "  waveform_stretched = torch.istft(\n"
     ]
    },
    {
     "name": "stdout",
     "output_type": "stream",
     "text": [
      "Original waveforms: 2800, Augmented waveforms: 8400\n"
     ]
    }
   ],
   "source": [
    "import torchaudio.transforms as T  # Import torchaudio transformations for audio augmentation\n",
    "import torch  # Import PyTorch\n",
    "\n",
    "# Define transformations for audio augmentation\n",
    "spectrogram_transform = T.Spectrogram(n_fft=400)  \n",
    "# Creates a spectrogram from a waveform. 'n_fft=400' defines the size of the FFT (Fast Fourier Transform) window.\n",
    "# A smaller n_fft provides better temporal resolution, while a larger n_fft provides better frequency resolution.\n",
    "\n",
    "time_stretch = T.TimeStretch(n_freq=201, fixed_rate=1.2)  \n",
    "# Stretches the audio signal without changing its pitch. 'n_freq=201' corresponds to the number of frequency bins, \n",
    "# and 'fixed_rate=1.2' means the audio duration will be stretched by 20%.\n",
    "\n",
    "pitch_shift = T.PitchShift(sample_rate=16000, n_steps=2)  \n",
    "# Shifts the pitch of the audio without changing its duration. 'sample_rate=16000' ensures the operation is based on the correct sampling rate.\n",
    "# 'n_steps=2' means the pitch is shifted by two semitones.\n",
    "\n",
    "add_noise = lambda x: x + 0.005 * torch.randn_like(x)  \n",
    "# Adds Gaussian noise to the audio. 'torch.randn_like(x)' generates random noise with the same shape as the input waveform.\n",
    "# '0.005' is the noise intensity; this small value ensures the noise doesn't overpower the original signal.\n",
    "\n",
    "# Apply augmentations to audio waveforms\n",
    "augmented_waveforms = []  # List to store the augmented waveforms\n",
    "for waveform in audio_waveforms:  # Loop over each waveform in the dataset\n",
    "    # Convert NumPy array to PyTorch tensor\n",
    "    waveform_tensor = torch.tensor(waveform, dtype=torch.float32)  \n",
    "    # Converts the waveform (initially a NumPy array) to a PyTorch tensor for compatibility with PyTorch operations.\n",
    "\n",
    "    # Convert waveform to spectrogram (required for TimeStretch)\n",
    "    spectrogram = spectrogram_transform(waveform_tensor.unsqueeze(0))  \n",
    "    # Converts the 1D waveform into a 2D spectrogram. 'unsqueeze(0)' adds a batch dimension since the transform expects a 2D input.\n",
    "\n",
    "    # TimeStretch requires complex tensor; convert spectrogram to complex\n",
    "    spectrogram_complex = torch.complex(spectrogram, torch.zeros_like(spectrogram))  \n",
    "    # TimeStretch requires the spectrogram to have complex values. This step converts the spectrogram into a complex tensor\n",
    "    # by combining the real part (spectrogram) with an imaginary part initialized to zeros.\n",
    "\n",
    "    # Apply TimeStretch\n",
    "    stretched_spectrogram = time_stretch(spectrogram_complex)  \n",
    "    # Stretches the spectrogram using the defined 'time_stretch' transformation.\n",
    "\n",
    "    # Convert back to waveform using PyTorch's istft\n",
    "    waveform_stretched = torch.istft(\n",
    "        stretched_spectrogram, n_fft=400, hop_length=200, length=waveform_tensor.size(0)\n",
    "    )\n",
    "    # Converts the stretched spectrogram back to a waveform using the Inverse Short-Time Fourier Transform (ISTFT).\n",
    "    # 'n_fft=400' matches the FFT size used earlier. 'hop_length=200' defines the overlap between consecutive frames.\n",
    "    # 'length=waveform_tensor.size(0)' ensures the output waveform has the same length as the original.\n",
    "\n",
    "    # Apply pitch shift\n",
    "    waveform_pitched = pitch_shift(waveform_tensor.unsqueeze(0)).squeeze(0)  \n",
    "    # Applies pitch shifting to the waveform. 'unsqueeze(0)' adds a batch dimension for compatibility with the transform,\n",
    "    # and 'squeeze(0)' removes the batch dimension after processing.\n",
    "\n",
    "    # Apply noise\n",
    "    waveform_noisy = add_noise(waveform_tensor)  \n",
    "    # Adds Gaussian noise to the waveform using the previously defined lambda function.\n",
    "\n",
    "    # Collect augmented waveforms\n",
    "    augmented_waveforms.extend([waveform_stretched, waveform_pitched, waveform_noisy])  \n",
    "    # Adds the augmented waveforms (stretched, pitch-shifted, and noisy) to the list of augmented waveforms.\n",
    "\n",
    "# Print the number of original and augmented waveforms\n",
    "print(f\"Original waveforms: {len(audio_waveforms)}, Augmented waveforms: {len(augmented_waveforms)}\")\n",
    "# Outputs the total count of original and augmented waveforms for verification"
   ]
  },
  {
   "cell_type": "code",
   "execution_count": 28,
   "id": "9b23c20c-f786-4f27-8b48-a98e1c4c1aba",
   "metadata": {},
   "outputs": [],
   "source": [
    "#############FINE TUNING\n",
    "def train_finetune(model, train_loader, criterion, optimizer, device, epochs=5):\n",
    "    model.train()  # Set the model to training mode\n",
    "    for epoch in range(epochs):\n",
    "        running_loss = 0.0\n",
    "        for waveforms, labels in tqdm(train_loader, desc=f\"Epoch {epoch+1}/{epochs}\"):\n",
    "            # Prepare inputs for Wav2Vec2 model\n",
    "            waveforms = waveforms.to(device)  # Move waveforms to the correct device\n",
    "            inputs = processor(waveforms, return_tensors=\"pt\", padding=True, sampling_rate=16000)\n",
    "            inputs = {key: val.squeeze(1).to(device) for key, val in inputs.items()}  # Remove extra dimension\n",
    "\n",
    "            labels = labels.to(device)  # Move labels to the correct device\n",
    "\n",
    "            # Zero the parameter gradients\n",
    "            optimizer.zero_grad()\n",
    "\n",
    "            # Forward pass\n",
    "            outputs = model(**inputs)\n",
    "            logits = outputs.logits  # Extract classification logits\n",
    "\n",
    "            # Compute loss\n",
    "            loss = criterion(logits, labels)\n",
    "\n",
    "            # Backward pass and optimization\n",
    "            loss.backward()\n",
    "            optimizer.step()\n",
    "\n",
    "            running_loss += loss.item()\n",
    "\n",
    "        print(f\"Epoch [{epoch+1}/{epochs}], Loss: {running_loss/len(train_loader):.4f}\")\n"
   ]
  },
  {
   "cell_type": "code",
   "execution_count": 29,
   "id": "88e3d854-5a55-47a7-be5d-1bd7fe213214",
   "metadata": {},
   "outputs": [
    {
     "name": "stderr",
     "output_type": "stream",
     "text": [
      "C:\\Users\\prann\\AppData\\Local\\Temp\\ipykernel_7480\\682423064.py:9: UserWarning: To copy construct from a tensor, it is recommended to use sourceTensor.clone().detach() or sourceTensor.clone().detach().requires_grad_(True), rather than torch.tensor(sourceTensor).\n",
      "  train_loader = DataLoader(TensorDataset(torch.tensor(X_train, dtype=torch.float32), torch.tensor(y_train)), batch_size=batch_size)\n",
      "C:\\Users\\prann\\AppData\\Local\\Temp\\ipykernel_7480\\682423064.py:10: UserWarning: To copy construct from a tensor, it is recommended to use sourceTensor.clone().detach() or sourceTensor.clone().detach().requires_grad_(True), rather than torch.tensor(sourceTensor).\n",
      "  val_loader = DataLoader(TensorDataset(torch.tensor(X_val, dtype=torch.float32), torch.tensor(y_val)), batch_size=batch_size)\n"
     ]
    },
    {
     "name": "stdout",
     "output_type": "stream",
     "text": [
      "Fold 1\n"
     ]
    },
    {
     "name": "stderr",
     "output_type": "stream",
     "text": [
      "Epoch 1/10: 100%|███████████████████████████████████████████████████████████████████| 140/140 [00:00<00:00, 277.24it/s]\n"
     ]
    },
    {
     "name": "stdout",
     "output_type": "stream",
     "text": [
      "Epoch [1/10], Loss: 0.0092\n"
     ]
    },
    {
     "name": "stderr",
     "output_type": "stream",
     "text": [
      "Epoch 2/10: 100%|███████████████████████████████████████████████████████████████████| 140/140 [00:00<00:00, 438.29it/s]\n"
     ]
    },
    {
     "name": "stdout",
     "output_type": "stream",
     "text": [
      "Epoch [2/10], Loss: 0.0130\n"
     ]
    },
    {
     "name": "stderr",
     "output_type": "stream",
     "text": [
      "Epoch 3/10: 100%|███████████████████████████████████████████████████████████████████| 140/140 [00:00<00:00, 554.80it/s]\n"
     ]
    },
    {
     "name": "stdout",
     "output_type": "stream",
     "text": [
      "Epoch [3/10], Loss: 0.0089\n"
     ]
    },
    {
     "name": "stderr",
     "output_type": "stream",
     "text": [
      "Epoch 4/10: 100%|███████████████████████████████████████████████████████████████████| 140/140 [00:00<00:00, 586.64it/s]\n"
     ]
    },
    {
     "name": "stdout",
     "output_type": "stream",
     "text": [
      "Epoch [4/10], Loss: 0.0111\n"
     ]
    },
    {
     "name": "stderr",
     "output_type": "stream",
     "text": [
      "Epoch 5/10: 100%|███████████████████████████████████████████████████████████████████| 140/140 [00:00<00:00, 571.45it/s]\n"
     ]
    },
    {
     "name": "stdout",
     "output_type": "stream",
     "text": [
      "Epoch [5/10], Loss: 0.0066\n"
     ]
    },
    {
     "name": "stderr",
     "output_type": "stream",
     "text": [
      "Epoch 6/10: 100%|███████████████████████████████████████████████████████████████████| 140/140 [00:00<00:00, 576.78it/s]\n"
     ]
    },
    {
     "name": "stdout",
     "output_type": "stream",
     "text": [
      "Epoch [6/10], Loss: 0.0090\n"
     ]
    },
    {
     "name": "stderr",
     "output_type": "stream",
     "text": [
      "Epoch 7/10: 100%|███████████████████████████████████████████████████████████████████| 140/140 [00:00<00:00, 523.31it/s]\n"
     ]
    },
    {
     "name": "stdout",
     "output_type": "stream",
     "text": [
      "Epoch [7/10], Loss: 0.0097\n"
     ]
    },
    {
     "name": "stderr",
     "output_type": "stream",
     "text": [
      "Epoch 8/10: 100%|███████████████████████████████████████████████████████████████████| 140/140 [00:00<00:00, 582.66it/s]\n"
     ]
    },
    {
     "name": "stdout",
     "output_type": "stream",
     "text": [
      "Epoch [8/10], Loss: 0.0052\n"
     ]
    },
    {
     "name": "stderr",
     "output_type": "stream",
     "text": [
      "Epoch 9/10: 100%|███████████████████████████████████████████████████████████████████| 140/140 [00:00<00:00, 575.26it/s]\n"
     ]
    },
    {
     "name": "stdout",
     "output_type": "stream",
     "text": [
      "Epoch [9/10], Loss: 0.0076\n"
     ]
    },
    {
     "name": "stderr",
     "output_type": "stream",
     "text": [
      "Epoch 10/10: 100%|██████████████████████████████████████████████████████████████████| 140/140 [00:00<00:00, 588.99it/s]\n"
     ]
    },
    {
     "name": "stdout",
     "output_type": "stream",
     "text": [
      "Epoch [10/10], Loss: 0.0088\n"
     ]
    },
    {
     "name": "stderr",
     "output_type": "stream",
     "text": [
      "Evaluating: 100%|█████████████████████████████████████████████████████████████████████| 35/35 [00:00<00:00, 879.71it/s]\n"
     ]
    },
    {
     "name": "stdout",
     "output_type": "stream",
     "text": [
      "Test Accuracy: 100.00%\n",
      "Fold 2\n"
     ]
    },
    {
     "name": "stderr",
     "output_type": "stream",
     "text": [
      "Epoch 1/10: 100%|███████████████████████████████████████████████████████████████████| 140/140 [00:00<00:00, 458.60it/s]\n"
     ]
    },
    {
     "name": "stdout",
     "output_type": "stream",
     "text": [
      "Epoch [1/10], Loss: 0.0066\n"
     ]
    },
    {
     "name": "stderr",
     "output_type": "stream",
     "text": [
      "Epoch 2/10: 100%|███████████████████████████████████████████████████████████████████| 140/140 [00:00<00:00, 570.68it/s]\n"
     ]
    },
    {
     "name": "stdout",
     "output_type": "stream",
     "text": [
      "Epoch [2/10], Loss: 0.0034\n"
     ]
    },
    {
     "name": "stderr",
     "output_type": "stream",
     "text": [
      "Epoch 3/10: 100%|███████████████████████████████████████████████████████████████████| 140/140 [00:00<00:00, 565.78it/s]\n"
     ]
    },
    {
     "name": "stdout",
     "output_type": "stream",
     "text": [
      "Epoch [3/10], Loss: 0.0076\n"
     ]
    },
    {
     "name": "stderr",
     "output_type": "stream",
     "text": [
      "Epoch 4/10: 100%|███████████████████████████████████████████████████████████████████| 140/140 [00:00<00:00, 571.97it/s]\n"
     ]
    },
    {
     "name": "stdout",
     "output_type": "stream",
     "text": [
      "Epoch [4/10], Loss: 0.0097\n"
     ]
    },
    {
     "name": "stderr",
     "output_type": "stream",
     "text": [
      "Epoch 5/10: 100%|███████████████████████████████████████████████████████████████████| 140/140 [00:00<00:00, 581.89it/s]\n"
     ]
    },
    {
     "name": "stdout",
     "output_type": "stream",
     "text": [
      "Epoch [5/10], Loss: 0.0059\n"
     ]
    },
    {
     "name": "stderr",
     "output_type": "stream",
     "text": [
      "Epoch 6/10: 100%|███████████████████████████████████████████████████████████████████| 140/140 [00:00<00:00, 532.84it/s]\n"
     ]
    },
    {
     "name": "stdout",
     "output_type": "stream",
     "text": [
      "Epoch [6/10], Loss: 0.0078\n"
     ]
    },
    {
     "name": "stderr",
     "output_type": "stream",
     "text": [
      "Epoch 7/10: 100%|███████████████████████████████████████████████████████████████████| 140/140 [00:00<00:00, 568.82it/s]\n"
     ]
    },
    {
     "name": "stdout",
     "output_type": "stream",
     "text": [
      "Epoch [7/10], Loss: 0.0075\n"
     ]
    },
    {
     "name": "stderr",
     "output_type": "stream",
     "text": [
      "Epoch 8/10: 100%|███████████████████████████████████████████████████████████████████| 140/140 [00:00<00:00, 574.73it/s]\n"
     ]
    },
    {
     "name": "stdout",
     "output_type": "stream",
     "text": [
      "Epoch [8/10], Loss: 0.0085\n"
     ]
    },
    {
     "name": "stderr",
     "output_type": "stream",
     "text": [
      "Epoch 9/10: 100%|███████████████████████████████████████████████████████████████████| 140/140 [00:00<00:00, 566.70it/s]\n"
     ]
    },
    {
     "name": "stdout",
     "output_type": "stream",
     "text": [
      "Epoch [9/10], Loss: 0.0121\n"
     ]
    },
    {
     "name": "stderr",
     "output_type": "stream",
     "text": [
      "Epoch 10/10: 100%|██████████████████████████████████████████████████████████████████| 140/140 [00:00<00:00, 545.69it/s]\n"
     ]
    },
    {
     "name": "stdout",
     "output_type": "stream",
     "text": [
      "Epoch [10/10], Loss: 0.0088\n"
     ]
    },
    {
     "name": "stderr",
     "output_type": "stream",
     "text": [
      "Evaluating: 100%|█████████████████████████████████████████████████████████████████████| 35/35 [00:00<00:00, 618.75it/s]\n"
     ]
    },
    {
     "name": "stdout",
     "output_type": "stream",
     "text": [
      "Test Accuracy: 100.00%\n",
      "Fold 3\n"
     ]
    },
    {
     "name": "stderr",
     "output_type": "stream",
     "text": [
      "Epoch 1/10: 100%|███████████████████████████████████████████████████████████████████| 140/140 [00:00<00:00, 488.31it/s]\n"
     ]
    },
    {
     "name": "stdout",
     "output_type": "stream",
     "text": [
      "Epoch [1/10], Loss: 0.0076\n"
     ]
    },
    {
     "name": "stderr",
     "output_type": "stream",
     "text": [
      "Epoch 2/10: 100%|███████████████████████████████████████████████████████████████████| 140/140 [00:00<00:00, 570.24it/s]\n"
     ]
    },
    {
     "name": "stdout",
     "output_type": "stream",
     "text": [
      "Epoch [2/10], Loss: 0.0091\n"
     ]
    },
    {
     "name": "stderr",
     "output_type": "stream",
     "text": [
      "Epoch 3/10: 100%|███████████████████████████████████████████████████████████████████| 140/140 [00:00<00:00, 574.53it/s]\n"
     ]
    },
    {
     "name": "stdout",
     "output_type": "stream",
     "text": [
      "Epoch [3/10], Loss: 0.0088\n"
     ]
    },
    {
     "name": "stderr",
     "output_type": "stream",
     "text": [
      "Epoch 4/10: 100%|███████████████████████████████████████████████████████████████████| 140/140 [00:00<00:00, 579.01it/s]\n"
     ]
    },
    {
     "name": "stdout",
     "output_type": "stream",
     "text": [
      "Epoch [4/10], Loss: 0.0072\n"
     ]
    },
    {
     "name": "stderr",
     "output_type": "stream",
     "text": [
      "Epoch 5/10: 100%|███████████████████████████████████████████████████████████████████| 140/140 [00:00<00:00, 553.55it/s]\n"
     ]
    },
    {
     "name": "stdout",
     "output_type": "stream",
     "text": [
      "Epoch [5/10], Loss: 0.0123\n"
     ]
    },
    {
     "name": "stderr",
     "output_type": "stream",
     "text": [
      "Epoch 6/10: 100%|███████████████████████████████████████████████████████████████████| 140/140 [00:00<00:00, 580.38it/s]\n"
     ]
    },
    {
     "name": "stdout",
     "output_type": "stream",
     "text": [
      "Epoch [6/10], Loss: 0.0078\n"
     ]
    },
    {
     "name": "stderr",
     "output_type": "stream",
     "text": [
      "Epoch 7/10: 100%|███████████████████████████████████████████████████████████████████| 140/140 [00:00<00:00, 579.51it/s]\n"
     ]
    },
    {
     "name": "stdout",
     "output_type": "stream",
     "text": [
      "Epoch [7/10], Loss: 0.0098\n"
     ]
    },
    {
     "name": "stderr",
     "output_type": "stream",
     "text": [
      "Epoch 8/10: 100%|███████████████████████████████████████████████████████████████████| 140/140 [00:00<00:00, 583.64it/s]\n"
     ]
    },
    {
     "name": "stdout",
     "output_type": "stream",
     "text": [
      "Epoch [8/10], Loss: 0.0106\n"
     ]
    },
    {
     "name": "stderr",
     "output_type": "stream",
     "text": [
      "Epoch 9/10: 100%|███████████████████████████████████████████████████████████████████| 140/140 [00:00<00:00, 554.63it/s]\n"
     ]
    },
    {
     "name": "stdout",
     "output_type": "stream",
     "text": [
      "Epoch [9/10], Loss: 0.0051\n"
     ]
    },
    {
     "name": "stderr",
     "output_type": "stream",
     "text": [
      "Epoch 10/10: 100%|██████████████████████████████████████████████████████████████████| 140/140 [00:00<00:00, 592.02it/s]\n"
     ]
    },
    {
     "name": "stdout",
     "output_type": "stream",
     "text": [
      "Epoch [10/10], Loss: 0.0064\n"
     ]
    },
    {
     "name": "stderr",
     "output_type": "stream",
     "text": [
      "Evaluating: 100%|████████████████████████████████████████████████████████████████████| 35/35 [00:00<00:00, 1043.92it/s]\n"
     ]
    },
    {
     "name": "stdout",
     "output_type": "stream",
     "text": [
      "Test Accuracy: 100.00%\n",
      "Fold 4\n"
     ]
    },
    {
     "name": "stderr",
     "output_type": "stream",
     "text": [
      "Epoch 1/10: 100%|███████████████████████████████████████████████████████████████████| 140/140 [00:00<00:00, 519.75it/s]\n"
     ]
    },
    {
     "name": "stdout",
     "output_type": "stream",
     "text": [
      "Epoch [1/10], Loss: 0.0090\n"
     ]
    },
    {
     "name": "stderr",
     "output_type": "stream",
     "text": [
      "Epoch 2/10: 100%|███████████████████████████████████████████████████████████████████| 140/140 [00:00<00:00, 579.81it/s]\n"
     ]
    },
    {
     "name": "stdout",
     "output_type": "stream",
     "text": [
      "Epoch [2/10], Loss: 0.0115\n"
     ]
    },
    {
     "name": "stderr",
     "output_type": "stream",
     "text": [
      "Epoch 3/10: 100%|███████████████████████████████████████████████████████████████████| 140/140 [00:00<00:00, 583.01it/s]\n"
     ]
    },
    {
     "name": "stdout",
     "output_type": "stream",
     "text": [
      "Epoch [3/10], Loss: 0.0106\n"
     ]
    },
    {
     "name": "stderr",
     "output_type": "stream",
     "text": [
      "Epoch 4/10: 100%|███████████████████████████████████████████████████████████████████| 140/140 [00:00<00:00, 547.19it/s]\n"
     ]
    },
    {
     "name": "stdout",
     "output_type": "stream",
     "text": [
      "Epoch [4/10], Loss: 0.0083\n"
     ]
    },
    {
     "name": "stderr",
     "output_type": "stream",
     "text": [
      "Epoch 5/10: 100%|███████████████████████████████████████████████████████████████████| 140/140 [00:00<00:00, 576.93it/s]\n"
     ]
    },
    {
     "name": "stdout",
     "output_type": "stream",
     "text": [
      "Epoch [5/10], Loss: 0.0123\n"
     ]
    },
    {
     "name": "stderr",
     "output_type": "stream",
     "text": [
      "Epoch 6/10: 100%|███████████████████████████████████████████████████████████████████| 140/140 [00:00<00:00, 582.73it/s]\n"
     ]
    },
    {
     "name": "stdout",
     "output_type": "stream",
     "text": [
      "Epoch [6/10], Loss: 0.0072\n"
     ]
    },
    {
     "name": "stderr",
     "output_type": "stream",
     "text": [
      "Epoch 7/10: 100%|███████████████████████████████████████████████████████████████████| 140/140 [00:00<00:00, 588.89it/s]\n"
     ]
    },
    {
     "name": "stdout",
     "output_type": "stream",
     "text": [
      "Epoch [7/10], Loss: 0.0087\n"
     ]
    },
    {
     "name": "stderr",
     "output_type": "stream",
     "text": [
      "Epoch 8/10: 100%|███████████████████████████████████████████████████████████████████| 140/140 [00:00<00:00, 537.39it/s]\n"
     ]
    },
    {
     "name": "stdout",
     "output_type": "stream",
     "text": [
      "Epoch [8/10], Loss: 0.0081\n"
     ]
    },
    {
     "name": "stderr",
     "output_type": "stream",
     "text": [
      "Epoch 9/10: 100%|███████████████████████████████████████████████████████████████████| 140/140 [00:00<00:00, 560.06it/s]\n"
     ]
    },
    {
     "name": "stdout",
     "output_type": "stream",
     "text": [
      "Epoch [9/10], Loss: 0.0086\n"
     ]
    },
    {
     "name": "stderr",
     "output_type": "stream",
     "text": [
      "Epoch 10/10: 100%|██████████████████████████████████████████████████████████████████| 140/140 [00:00<00:00, 581.09it/s]\n"
     ]
    },
    {
     "name": "stdout",
     "output_type": "stream",
     "text": [
      "Epoch [10/10], Loss: 0.0090\n"
     ]
    },
    {
     "name": "stderr",
     "output_type": "stream",
     "text": [
      "Evaluating: 100%|████████████████████████████████████████████████████████████████████| 35/35 [00:00<00:00, 1075.65it/s]\n"
     ]
    },
    {
     "name": "stdout",
     "output_type": "stream",
     "text": [
      "Test Accuracy: 99.82%\n",
      "Fold 5\n"
     ]
    },
    {
     "name": "stderr",
     "output_type": "stream",
     "text": [
      "Epoch 1/10: 100%|███████████████████████████████████████████████████████████████████| 140/140 [00:00<00:00, 504.42it/s]\n"
     ]
    },
    {
     "name": "stdout",
     "output_type": "stream",
     "text": [
      "Epoch [1/10], Loss: 0.0114\n"
     ]
    },
    {
     "name": "stderr",
     "output_type": "stream",
     "text": [
      "Epoch 2/10: 100%|███████████████████████████████████████████████████████████████████| 140/140 [00:00<00:00, 578.97it/s]\n"
     ]
    },
    {
     "name": "stdout",
     "output_type": "stream",
     "text": [
      "Epoch [2/10], Loss: 0.0114\n"
     ]
    },
    {
     "name": "stderr",
     "output_type": "stream",
     "text": [
      "Epoch 3/10: 100%|███████████████████████████████████████████████████████████████████| 140/140 [00:00<00:00, 538.12it/s]\n"
     ]
    },
    {
     "name": "stdout",
     "output_type": "stream",
     "text": [
      "Epoch [3/10], Loss: 0.0099\n"
     ]
    },
    {
     "name": "stderr",
     "output_type": "stream",
     "text": [
      "Epoch 4/10: 100%|███████████████████████████████████████████████████████████████████| 140/140 [00:00<00:00, 587.58it/s]\n"
     ]
    },
    {
     "name": "stdout",
     "output_type": "stream",
     "text": [
      "Epoch [4/10], Loss: 0.0110\n"
     ]
    },
    {
     "name": "stderr",
     "output_type": "stream",
     "text": [
      "Epoch 5/10: 100%|███████████████████████████████████████████████████████████████████| 140/140 [00:00<00:00, 584.51it/s]\n"
     ]
    },
    {
     "name": "stdout",
     "output_type": "stream",
     "text": [
      "Epoch [5/10], Loss: 0.0102\n"
     ]
    },
    {
     "name": "stderr",
     "output_type": "stream",
     "text": [
      "Epoch 6/10: 100%|███████████████████████████████████████████████████████████████████| 140/140 [00:00<00:00, 585.20it/s]\n"
     ]
    },
    {
     "name": "stdout",
     "output_type": "stream",
     "text": [
      "Epoch [6/10], Loss: 0.0068\n"
     ]
    },
    {
     "name": "stderr",
     "output_type": "stream",
     "text": [
      "Epoch 7/10: 100%|███████████████████████████████████████████████████████████████████| 140/140 [00:00<00:00, 545.50it/s]\n"
     ]
    },
    {
     "name": "stdout",
     "output_type": "stream",
     "text": [
      "Epoch [7/10], Loss: 0.0097\n"
     ]
    },
    {
     "name": "stderr",
     "output_type": "stream",
     "text": [
      "Epoch 8/10: 100%|███████████████████████████████████████████████████████████████████| 140/140 [00:00<00:00, 577.30it/s]\n"
     ]
    },
    {
     "name": "stdout",
     "output_type": "stream",
     "text": [
      "Epoch [8/10], Loss: 0.0087\n"
     ]
    },
    {
     "name": "stderr",
     "output_type": "stream",
     "text": [
      "Epoch 9/10: 100%|███████████████████████████████████████████████████████████████████| 140/140 [00:00<00:00, 583.12it/s]\n"
     ]
    },
    {
     "name": "stdout",
     "output_type": "stream",
     "text": [
      "Epoch [9/10], Loss: 0.0108\n"
     ]
    },
    {
     "name": "stderr",
     "output_type": "stream",
     "text": [
      "Epoch 10/10: 100%|██████████████████████████████████████████████████████████████████| 140/140 [00:00<00:00, 578.82it/s]\n"
     ]
    },
    {
     "name": "stdout",
     "output_type": "stream",
     "text": [
      "Epoch [10/10], Loss: 0.0068\n"
     ]
    },
    {
     "name": "stderr",
     "output_type": "stream",
     "text": [
      "Evaluating: 100%|████████████████████████████████████████████████████████████████████| 35/35 [00:00<00:00, 1022.79it/s]"
     ]
    },
    {
     "name": "stdout",
     "output_type": "stream",
     "text": [
      "Test Accuracy: 100.00%\n"
     ]
    },
    {
     "name": "stderr",
     "output_type": "stream",
     "text": [
      "\n"
     ]
    }
   ],
   "source": [
    "from sklearn.model_selection import StratifiedKFold\n",
    "\n",
    "kf = StratifiedKFold(n_splits=5)\n",
    "for fold, (train_idx, val_idx) in enumerate(kf.split(audio_features, encoded_labels)):\n",
    "    print(f\"Fold {fold + 1}\")\n",
    "    X_train, X_val = audio_features[train_idx], audio_features[val_idx]\n",
    "    y_train, y_val = encoded_labels[train_idx], encoded_labels[val_idx]\n",
    "\n",
    "    train_loader = DataLoader(TensorDataset(torch.tensor(X_train, dtype=torch.float32), torch.tensor(y_train)), batch_size=batch_size)\n",
    "    val_loader = DataLoader(TensorDataset(torch.tensor(X_val, dtype=torch.float32), torch.tensor(y_val)), batch_size=batch_size)\n",
    "\n",
    "    # Train and evaluate for each fold\n",
    "    train(model, train_loader, criterion, optimizer, device, epochs=10)\n",
    "    evaluate(model, val_loader, device)\n"
   ]
  },
  {
   "cell_type": "code",
   "execution_count": 30,
   "id": "95c152ac-ea66-4034-8671-210166d6f8ea",
   "metadata": {},
   "outputs": [
    {
     "name": "stderr",
     "output_type": "stream",
     "text": [
      "C:\\Users\\prann\\AppData\\Local\\Temp\\ipykernel_7480\\3490862149.py:10: UserWarning: To copy construct from a tensor, it is recommended to use sourceTensor.clone().detach() or sourceTensor.clone().detach().requires_grad_(True), rather than torch.tensor(sourceTensor).\n",
      "  train_loader = DataLoader(TensorDataset(torch.tensor(X_train, dtype=torch.float32), torch.tensor(y_train)), batch_size=batch_size)\n",
      "C:\\Users\\prann\\AppData\\Local\\Temp\\ipykernel_7480\\3490862149.py:11: UserWarning: To copy construct from a tensor, it is recommended to use sourceTensor.clone().detach() or sourceTensor.clone().detach().requires_grad_(True), rather than torch.tensor(sourceTensor).\n",
      "  val_loader = DataLoader(TensorDataset(torch.tensor(X_val, dtype=torch.float32), torch.tensor(y_val)), batch_size=batch_size)\n"
     ]
    },
    {
     "name": "stdout",
     "output_type": "stream",
     "text": [
      "Fold 1\n"
     ]
    },
    {
     "name": "stderr",
     "output_type": "stream",
     "text": [
      "Epoch 1/10: 100%|███████████████████████████████████████████████████████████████████| 140/140 [00:00<00:00, 352.82it/s]\n"
     ]
    },
    {
     "name": "stdout",
     "output_type": "stream",
     "text": [
      "Epoch [1/10], Loss: 0.0095\n"
     ]
    },
    {
     "name": "stderr",
     "output_type": "stream",
     "text": [
      "Epoch 2/10: 100%|███████████████████████████████████████████████████████████████████| 140/140 [00:00<00:00, 576.49it/s]\n"
     ]
    },
    {
     "name": "stdout",
     "output_type": "stream",
     "text": [
      "Epoch [2/10], Loss: 0.0071\n"
     ]
    },
    {
     "name": "stderr",
     "output_type": "stream",
     "text": [
      "Epoch 3/10: 100%|███████████████████████████████████████████████████████████████████| 140/140 [00:00<00:00, 535.21it/s]\n"
     ]
    },
    {
     "name": "stdout",
     "output_type": "stream",
     "text": [
      "Epoch [3/10], Loss: 0.0121\n"
     ]
    },
    {
     "name": "stderr",
     "output_type": "stream",
     "text": [
      "Epoch 4/10: 100%|███████████████████████████████████████████████████████████████████| 140/140 [00:00<00:00, 444.38it/s]\n"
     ]
    },
    {
     "name": "stdout",
     "output_type": "stream",
     "text": [
      "Epoch [4/10], Loss: 0.0068\n"
     ]
    },
    {
     "name": "stderr",
     "output_type": "stream",
     "text": [
      "Epoch 5/10: 100%|███████████████████████████████████████████████████████████████████| 140/140 [00:00<00:00, 530.31it/s]\n"
     ]
    },
    {
     "name": "stdout",
     "output_type": "stream",
     "text": [
      "Epoch [5/10], Loss: 0.0084\n"
     ]
    },
    {
     "name": "stderr",
     "output_type": "stream",
     "text": [
      "Epoch 6/10: 100%|███████████████████████████████████████████████████████████████████| 140/140 [00:00<00:00, 576.02it/s]\n"
     ]
    },
    {
     "name": "stdout",
     "output_type": "stream",
     "text": [
      "Epoch [6/10], Loss: 0.0085\n"
     ]
    },
    {
     "name": "stderr",
     "output_type": "stream",
     "text": [
      "Epoch 7/10: 100%|███████████████████████████████████████████████████████████████████| 140/140 [00:00<00:00, 585.84it/s]\n"
     ]
    },
    {
     "name": "stdout",
     "output_type": "stream",
     "text": [
      "Epoch [7/10], Loss: 0.0072\n"
     ]
    },
    {
     "name": "stderr",
     "output_type": "stream",
     "text": [
      "Epoch 8/10: 100%|███████████████████████████████████████████████████████████████████| 140/140 [00:00<00:00, 579.40it/s]\n"
     ]
    },
    {
     "name": "stdout",
     "output_type": "stream",
     "text": [
      "Epoch [8/10], Loss: 0.0075\n"
     ]
    },
    {
     "name": "stderr",
     "output_type": "stream",
     "text": [
      "Epoch 9/10: 100%|███████████████████████████████████████████████████████████████████| 140/140 [00:00<00:00, 572.61it/s]\n"
     ]
    },
    {
     "name": "stdout",
     "output_type": "stream",
     "text": [
      "Epoch [9/10], Loss: 0.0131\n"
     ]
    },
    {
     "name": "stderr",
     "output_type": "stream",
     "text": [
      "Epoch 10/10: 100%|██████████████████████████████████████████████████████████████████| 140/140 [00:00<00:00, 518.21it/s]\n"
     ]
    },
    {
     "name": "stdout",
     "output_type": "stream",
     "text": [
      "Epoch [10/10], Loss: 0.0058\n"
     ]
    },
    {
     "name": "stderr",
     "output_type": "stream",
     "text": [
      "Evaluating: 100%|█████████████████████████████████████████████████████████████████████| 35/35 [00:00<00:00, 939.89it/s]\n"
     ]
    },
    {
     "name": "stdout",
     "output_type": "stream",
     "text": [
      "Test Accuracy: 100.00%\n",
      "Fold 2\n"
     ]
    },
    {
     "name": "stderr",
     "output_type": "stream",
     "text": [
      "Epoch 1/10: 100%|███████████████████████████████████████████████████████████████████| 140/140 [00:00<00:00, 501.94it/s]\n"
     ]
    },
    {
     "name": "stdout",
     "output_type": "stream",
     "text": [
      "Epoch [1/10], Loss: 0.0087\n"
     ]
    },
    {
     "name": "stderr",
     "output_type": "stream",
     "text": [
      "Epoch 2/10: 100%|███████████████████████████████████████████████████████████████████| 140/140 [00:00<00:00, 497.57it/s]\n"
     ]
    },
    {
     "name": "stdout",
     "output_type": "stream",
     "text": [
      "Epoch [2/10], Loss: 0.0085\n"
     ]
    },
    {
     "name": "stderr",
     "output_type": "stream",
     "text": [
      "Epoch 3/10: 100%|███████████████████████████████████████████████████████████████████| 140/140 [00:00<00:00, 482.42it/s]\n"
     ]
    },
    {
     "name": "stdout",
     "output_type": "stream",
     "text": [
      "Epoch [3/10], Loss: 0.0070\n"
     ]
    },
    {
     "name": "stderr",
     "output_type": "stream",
     "text": [
      "Epoch 4/10: 100%|███████████████████████████████████████████████████████████████████| 140/140 [00:00<00:00, 507.35it/s]\n"
     ]
    },
    {
     "name": "stdout",
     "output_type": "stream",
     "text": [
      "Epoch [4/10], Loss: 0.0110\n"
     ]
    },
    {
     "name": "stderr",
     "output_type": "stream",
     "text": [
      "Epoch 5/10: 100%|███████████████████████████████████████████████████████████████████| 140/140 [00:00<00:00, 570.32it/s]\n"
     ]
    },
    {
     "name": "stdout",
     "output_type": "stream",
     "text": [
      "Epoch [5/10], Loss: 0.0075\n"
     ]
    },
    {
     "name": "stderr",
     "output_type": "stream",
     "text": [
      "Epoch 6/10: 100%|███████████████████████████████████████████████████████████████████| 140/140 [00:00<00:00, 573.63it/s]\n"
     ]
    },
    {
     "name": "stdout",
     "output_type": "stream",
     "text": [
      "Epoch [6/10], Loss: 0.0062\n"
     ]
    },
    {
     "name": "stderr",
     "output_type": "stream",
     "text": [
      "Epoch 7/10: 100%|███████████████████████████████████████████████████████████████████| 140/140 [00:00<00:00, 561.98it/s]\n"
     ]
    },
    {
     "name": "stdout",
     "output_type": "stream",
     "text": [
      "Epoch [7/10], Loss: 0.0082\n"
     ]
    },
    {
     "name": "stderr",
     "output_type": "stream",
     "text": [
      "Epoch 8/10: 100%|███████████████████████████████████████████████████████████████████| 140/140 [00:00<00:00, 514.88it/s]\n"
     ]
    },
    {
     "name": "stdout",
     "output_type": "stream",
     "text": [
      "Epoch [8/10], Loss: 0.0058\n"
     ]
    },
    {
     "name": "stderr",
     "output_type": "stream",
     "text": [
      "Epoch 9/10: 100%|███████████████████████████████████████████████████████████████████| 140/140 [00:00<00:00, 569.62it/s]\n"
     ]
    },
    {
     "name": "stdout",
     "output_type": "stream",
     "text": [
      "Epoch [9/10], Loss: 0.0114\n"
     ]
    },
    {
     "name": "stderr",
     "output_type": "stream",
     "text": [
      "Epoch 10/10: 100%|██████████████████████████████████████████████████████████████████| 140/140 [00:00<00:00, 569.04it/s]\n"
     ]
    },
    {
     "name": "stdout",
     "output_type": "stream",
     "text": [
      "Epoch [10/10], Loss: 0.0085\n"
     ]
    },
    {
     "name": "stderr",
     "output_type": "stream",
     "text": [
      "Evaluating: 100%|█████████████████████████████████████████████████████████████████████| 35/35 [00:00<00:00, 923.76it/s]\n"
     ]
    },
    {
     "name": "stdout",
     "output_type": "stream",
     "text": [
      "Test Accuracy: 100.00%\n",
      "Fold 3\n"
     ]
    },
    {
     "name": "stderr",
     "output_type": "stream",
     "text": [
      "Epoch 1/10: 100%|███████████████████████████████████████████████████████████████████| 140/140 [00:00<00:00, 498.72it/s]\n"
     ]
    },
    {
     "name": "stdout",
     "output_type": "stream",
     "text": [
      "Epoch [1/10], Loss: 0.0069\n"
     ]
    },
    {
     "name": "stderr",
     "output_type": "stream",
     "text": [
      "Epoch 2/10: 100%|███████████████████████████████████████████████████████████████████| 140/140 [00:00<00:00, 535.26it/s]\n"
     ]
    },
    {
     "name": "stdout",
     "output_type": "stream",
     "text": [
      "Epoch [2/10], Loss: 0.0102\n"
     ]
    },
    {
     "name": "stderr",
     "output_type": "stream",
     "text": [
      "Epoch 3/10: 100%|███████████████████████████████████████████████████████████████████| 140/140 [00:00<00:00, 451.63it/s]\n"
     ]
    },
    {
     "name": "stdout",
     "output_type": "stream",
     "text": [
      "Epoch [3/10], Loss: 0.0099\n"
     ]
    },
    {
     "name": "stderr",
     "output_type": "stream",
     "text": [
      "Epoch 4/10: 100%|███████████████████████████████████████████████████████████████████| 140/140 [00:00<00:00, 583.96it/s]\n"
     ]
    },
    {
     "name": "stdout",
     "output_type": "stream",
     "text": [
      "Epoch [4/10], Loss: 0.0135\n"
     ]
    },
    {
     "name": "stderr",
     "output_type": "stream",
     "text": [
      "Epoch 5/10: 100%|███████████████████████████████████████████████████████████████████| 140/140 [00:00<00:00, 580.16it/s]\n"
     ]
    },
    {
     "name": "stdout",
     "output_type": "stream",
     "text": [
      "Epoch [5/10], Loss: 0.0130\n"
     ]
    },
    {
     "name": "stderr",
     "output_type": "stream",
     "text": [
      "Epoch 6/10: 100%|███████████████████████████████████████████████████████████████████| 140/140 [00:00<00:00, 585.97it/s]\n"
     ]
    },
    {
     "name": "stdout",
     "output_type": "stream",
     "text": [
      "Epoch [6/10], Loss: 0.0061\n"
     ]
    },
    {
     "name": "stderr",
     "output_type": "stream",
     "text": [
      "Epoch 7/10: 100%|███████████████████████████████████████████████████████████████████| 140/140 [00:00<00:00, 548.55it/s]\n"
     ]
    },
    {
     "name": "stdout",
     "output_type": "stream",
     "text": [
      "Epoch [7/10], Loss: 0.0069\n"
     ]
    },
    {
     "name": "stderr",
     "output_type": "stream",
     "text": [
      "Epoch 8/10: 100%|███████████████████████████████████████████████████████████████████| 140/140 [00:00<00:00, 556.21it/s]\n"
     ]
    },
    {
     "name": "stdout",
     "output_type": "stream",
     "text": [
      "Epoch [8/10], Loss: 0.0116\n"
     ]
    },
    {
     "name": "stderr",
     "output_type": "stream",
     "text": [
      "Epoch 9/10: 100%|███████████████████████████████████████████████████████████████████| 140/140 [00:00<00:00, 549.88it/s]\n"
     ]
    },
    {
     "name": "stdout",
     "output_type": "stream",
     "text": [
      "Epoch [9/10], Loss: 0.0097\n"
     ]
    },
    {
     "name": "stderr",
     "output_type": "stream",
     "text": [
      "Epoch 10/10: 100%|██████████████████████████████████████████████████████████████████| 140/140 [00:00<00:00, 536.63it/s]\n"
     ]
    },
    {
     "name": "stdout",
     "output_type": "stream",
     "text": [
      "Epoch [10/10], Loss: 0.0106\n"
     ]
    },
    {
     "name": "stderr",
     "output_type": "stream",
     "text": [
      "Evaluating: 100%|█████████████████████████████████████████████████████████████████████| 35/35 [00:00<00:00, 979.82it/s]\n"
     ]
    },
    {
     "name": "stdout",
     "output_type": "stream",
     "text": [
      "Test Accuracy: 100.00%\n",
      "Fold 4\n"
     ]
    },
    {
     "name": "stderr",
     "output_type": "stream",
     "text": [
      "Epoch 1/10: 100%|███████████████████████████████████████████████████████████████████| 140/140 [00:00<00:00, 434.70it/s]\n"
     ]
    },
    {
     "name": "stdout",
     "output_type": "stream",
     "text": [
      "Epoch [1/10], Loss: 0.0063\n"
     ]
    },
    {
     "name": "stderr",
     "output_type": "stream",
     "text": [
      "Epoch 2/10: 100%|███████████████████████████████████████████████████████████████████| 140/140 [00:00<00:00, 493.68it/s]\n"
     ]
    },
    {
     "name": "stdout",
     "output_type": "stream",
     "text": [
      "Epoch [2/10], Loss: 0.0067\n"
     ]
    },
    {
     "name": "stderr",
     "output_type": "stream",
     "text": [
      "Epoch 3/10: 100%|███████████████████████████████████████████████████████████████████| 140/140 [00:00<00:00, 509.58it/s]\n"
     ]
    },
    {
     "name": "stdout",
     "output_type": "stream",
     "text": [
      "Epoch [3/10], Loss: 0.0062\n"
     ]
    },
    {
     "name": "stderr",
     "output_type": "stream",
     "text": [
      "Epoch 4/10: 100%|███████████████████████████████████████████████████████████████████| 140/140 [00:00<00:00, 496.24it/s]\n"
     ]
    },
    {
     "name": "stdout",
     "output_type": "stream",
     "text": [
      "Epoch [4/10], Loss: 0.0059\n"
     ]
    },
    {
     "name": "stderr",
     "output_type": "stream",
     "text": [
      "Epoch 5/10: 100%|███████████████████████████████████████████████████████████████████| 140/140 [00:00<00:00, 478.20it/s]\n"
     ]
    },
    {
     "name": "stdout",
     "output_type": "stream",
     "text": [
      "Epoch [5/10], Loss: 0.0099\n"
     ]
    },
    {
     "name": "stderr",
     "output_type": "stream",
     "text": [
      "Epoch 6/10: 100%|███████████████████████████████████████████████████████████████████| 140/140 [00:00<00:00, 537.59it/s]\n"
     ]
    },
    {
     "name": "stdout",
     "output_type": "stream",
     "text": [
      "Epoch [6/10], Loss: 0.0071\n"
     ]
    },
    {
     "name": "stderr",
     "output_type": "stream",
     "text": [
      "Epoch 7/10: 100%|███████████████████████████████████████████████████████████████████| 140/140 [00:00<00:00, 525.34it/s]\n"
     ]
    },
    {
     "name": "stdout",
     "output_type": "stream",
     "text": [
      "Epoch [7/10], Loss: 0.0126\n"
     ]
    },
    {
     "name": "stderr",
     "output_type": "stream",
     "text": [
      "Epoch 8/10: 100%|███████████████████████████████████████████████████████████████████| 140/140 [00:00<00:00, 500.30it/s]\n"
     ]
    },
    {
     "name": "stdout",
     "output_type": "stream",
     "text": [
      "Epoch [8/10], Loss: 0.0077\n"
     ]
    },
    {
     "name": "stderr",
     "output_type": "stream",
     "text": [
      "Epoch 9/10: 100%|███████████████████████████████████████████████████████████████████| 140/140 [00:00<00:00, 503.99it/s]\n"
     ]
    },
    {
     "name": "stdout",
     "output_type": "stream",
     "text": [
      "Epoch [9/10], Loss: 0.0103\n"
     ]
    },
    {
     "name": "stderr",
     "output_type": "stream",
     "text": [
      "Epoch 10/10: 100%|██████████████████████████████████████████████████████████████████| 140/140 [00:00<00:00, 572.36it/s]\n"
     ]
    },
    {
     "name": "stdout",
     "output_type": "stream",
     "text": [
      "Epoch [10/10], Loss: 0.0112\n"
     ]
    },
    {
     "name": "stderr",
     "output_type": "stream",
     "text": [
      "Evaluating: 100%|████████████████████████████████████████████████████████████████████| 35/35 [00:00<00:00, 1074.94it/s]\n"
     ]
    },
    {
     "name": "stdout",
     "output_type": "stream",
     "text": [
      "Test Accuracy: 99.82%\n",
      "Fold 5\n"
     ]
    },
    {
     "name": "stderr",
     "output_type": "stream",
     "text": [
      "Epoch 1/10: 100%|███████████████████████████████████████████████████████████████████| 140/140 [00:00<00:00, 457.78it/s]\n"
     ]
    },
    {
     "name": "stdout",
     "output_type": "stream",
     "text": [
      "Epoch [1/10], Loss: 0.0146\n"
     ]
    },
    {
     "name": "stderr",
     "output_type": "stream",
     "text": [
      "Epoch 2/10: 100%|███████████████████████████████████████████████████████████████████| 140/140 [00:00<00:00, 575.75it/s]\n"
     ]
    },
    {
     "name": "stdout",
     "output_type": "stream",
     "text": [
      "Epoch [2/10], Loss: 0.0092\n"
     ]
    },
    {
     "name": "stderr",
     "output_type": "stream",
     "text": [
      "Epoch 3/10: 100%|███████████████████████████████████████████████████████████████████| 140/140 [00:00<00:00, 531.72it/s]\n"
     ]
    },
    {
     "name": "stdout",
     "output_type": "stream",
     "text": [
      "Epoch [3/10], Loss: 0.0096\n"
     ]
    },
    {
     "name": "stderr",
     "output_type": "stream",
     "text": [
      "Epoch 4/10: 100%|███████████████████████████████████████████████████████████████████| 140/140 [00:00<00:00, 578.21it/s]\n"
     ]
    },
    {
     "name": "stdout",
     "output_type": "stream",
     "text": [
      "Epoch [4/10], Loss: 0.0092\n"
     ]
    },
    {
     "name": "stderr",
     "output_type": "stream",
     "text": [
      "Epoch 5/10: 100%|███████████████████████████████████████████████████████████████████| 140/140 [00:00<00:00, 573.45it/s]\n"
     ]
    },
    {
     "name": "stdout",
     "output_type": "stream",
     "text": [
      "Epoch [5/10], Loss: 0.0179\n"
     ]
    },
    {
     "name": "stderr",
     "output_type": "stream",
     "text": [
      "Epoch 6/10: 100%|███████████████████████████████████████████████████████████████████| 140/140 [00:00<00:00, 543.01it/s]\n"
     ]
    },
    {
     "name": "stdout",
     "output_type": "stream",
     "text": [
      "Epoch [6/10], Loss: 0.0127\n"
     ]
    },
    {
     "name": "stderr",
     "output_type": "stream",
     "text": [
      "Epoch 7/10: 100%|███████████████████████████████████████████████████████████████████| 140/140 [00:00<00:00, 558.08it/s]\n"
     ]
    },
    {
     "name": "stdout",
     "output_type": "stream",
     "text": [
      "Epoch [7/10], Loss: 0.0080\n"
     ]
    },
    {
     "name": "stderr",
     "output_type": "stream",
     "text": [
      "Epoch 8/10: 100%|███████████████████████████████████████████████████████████████████| 140/140 [00:00<00:00, 500.37it/s]\n"
     ]
    },
    {
     "name": "stdout",
     "output_type": "stream",
     "text": [
      "Epoch [8/10], Loss: 0.0116\n"
     ]
    },
    {
     "name": "stderr",
     "output_type": "stream",
     "text": [
      "Epoch 9/10: 100%|███████████████████████████████████████████████████████████████████| 140/140 [00:00<00:00, 544.72it/s]\n"
     ]
    },
    {
     "name": "stdout",
     "output_type": "stream",
     "text": [
      "Epoch [9/10], Loss: 0.0157\n"
     ]
    },
    {
     "name": "stderr",
     "output_type": "stream",
     "text": [
      "Epoch 10/10: 100%|██████████████████████████████████████████████████████████████████| 140/140 [00:00<00:00, 438.82it/s]\n"
     ]
    },
    {
     "name": "stdout",
     "output_type": "stream",
     "text": [
      "Epoch [10/10], Loss: 0.0119\n"
     ]
    },
    {
     "name": "stderr",
     "output_type": "stream",
     "text": [
      "Evaluating: 100%|█████████████████████████████████████████████████████████████████████| 35/35 [00:00<00:00, 998.53it/s]"
     ]
    },
    {
     "name": "stdout",
     "output_type": "stream",
     "text": [
      "Test Accuracy: 100.00%\n"
     ]
    },
    {
     "name": "stderr",
     "output_type": "stream",
     "text": [
      "\n"
     ]
    }
   ],
   "source": [
    "##############CROSS VALIDATION(K-fold cross validation)\n",
    "from sklearn.model_selection import StratifiedKFold\n",
    "# Initialize Stratified K-Fold with 5 splits to maintain class balance in each fold\n",
    "kf = StratifiedKFold(n_splits=5)\n",
    "# Loop through each fold\n",
    "for fold, (train_idx, val_idx) in enumerate(kf.split(audio_features, encoded_labels)):\n",
    "    print(f\"Fold {fold + 1}\")\n",
    "    # Split the data into training and validation sets for this fold\n",
    "    X_train, X_val = audio_features[train_idx], audio_features[val_idx]\n",
    "    y_train, y_val = encoded_labels[train_idx], encoded_labels[val_idx]\n",
    "# Create DataLoaders for training and validation datasets\n",
    "    train_loader = DataLoader(TensorDataset(torch.tensor(X_train, dtype=torch.float32), torch.tensor(y_train)), batch_size=batch_size)\n",
    "    val_loader = DataLoader(TensorDataset(torch.tensor(X_val, dtype=torch.float32), torch.tensor(y_val)), batch_size=batch_size)\n",
    "\n",
    "    # Train and evaluate for each fold\n",
    "    train(model, train_loader, criterion, optimizer, device, epochs=10)\n",
    "    evaluate(model, val_loader, device)\n"
   ]
  },
  {
   "cell_type": "code",
   "execution_count": 31,
   "id": "38669813-cf09-4a78-9aa9-c4006c19e7fb",
   "metadata": {},
   "outputs": [
    {
     "name": "stdout",
     "output_type": "stream",
     "text": [
      " * Serving Flask app '__main__'\n",
      " * Debug mode: on\n"
     ]
    },
    {
     "name": "stderr",
     "output_type": "stream",
     "text": [
      "C:\\Users\\prann\\AppData\\Local\\Temp\\ipykernel_7480\\1963026974.py:9: FutureWarning: You are using `torch.load` with `weights_only=False` (the current default value), which uses the default pickle module implicitly. It is possible to construct malicious pickle data which will execute arbitrary code during unpickling (See https://github.com/pytorch/pytorch/blob/main/SECURITY.md#untrusted-models for more details). In a future release, the default value for `weights_only` will be flipped to `True`. This limits the functions that could be executed during unpickling. Arbitrary objects will no longer be allowed to be loaded via this mode unless they are explicitly allowlisted by the user via `torch.serialization.add_safe_globals`. We recommend you start setting `weights_only=True` for any use case where you don't have full control of the loaded file. Please open an issue on GitHub for any issues related to this experimental feature.\n",
      "  model.load_state_dict(torch.load('emotion_classifier.pth'))\n",
      "WARNING: This is a development server. Do not use it in a production deployment. Use a production WSGI server instead.\n",
      " * Running on http://127.0.0.1:5000\n",
      "Press CTRL+C to quit\n",
      " * Restarting with stat\n"
     ]
    },
    {
     "ename": "SystemExit",
     "evalue": "1",
     "output_type": "error",
     "traceback": [
      "An exception has occurred, use %tb to see the full traceback.\n",
      "\u001b[1;31mSystemExit\u001b[0m\u001b[1;31m:\u001b[0m 1\n"
     ]
    },
    {
     "name": "stderr",
     "output_type": "stream",
     "text": [
      "C:\\Users\\prann\\AppData\\Local\\Programs\\Python\\Python312\\Lib\\site-packages\\IPython\\core\\interactiveshell.py:3585: UserWarning: To exit: use 'exit', 'quit', or Ctrl-D.\n",
      "  warn(\"To exit: use 'exit', 'quit', or Ctrl-D.\", stacklevel=1)\n"
     ]
    }
   ],
   "source": [
    "##########DEPLOY THE MODEL\n",
    "from flask import Flask, request, jsonify  # Import Flask for creating an API, request for handling HTTP requests, jsonify for JSON responses\n",
    "import torch  # Import PyTorch for loading and running the trained model\n",
    "\n",
    "# Initialize the Flask app\n",
    "app = Flask(__name__)  # `__name__` specifies the name of the current module, used to initialize Flask application\n",
    "\n",
    "# Load the trained model\n",
    "model = EmotionClassifier(input_size=input_size, num_classes=num_classes)  # Instantiate the EmotionClassifier model with input size and number of emotion classes\n",
    "model.load_state_dict(torch.load('emotion_classifier.pth'))  # Load the trained model weights from the saved file\n",
    "model.eval()  # Set the model to evaluation mode (important for inference)\n",
    "\n",
    "# Define an API endpoint for emotion prediction\n",
    "@app.route('/predict', methods=['POST'])  # Create a route `/predict` that accepts only POST requests\n",
    "def predict():\n",
    "    data = request.json  # Extract JSON data from the POST request (assuming the audio waveform is sent in the body of the request)\n",
    "    waveform = torch.tensor(data['waveform'])  # Convert the received waveform data into a PyTorch tensor\n",
    "    inputs = processor(waveform, return_tensors=\"pt\", padding=True, sampling_rate=16000)  # Process the waveform using the Wav2Vec2 processor\n",
    "    with torch.no_grad():  # Disable gradient calculations for inference to save computation\n",
    "        outputs = model(inputs)  # Pass the processed input to the model for prediction\n",
    "        _, predicted = torch.max(outputs, 1)  # Get the index of the class with the highest score (predicted class)\n",
    "    emotion = label_encoder.inverse_transform([predicted.item()])[0]  # Convert the predicted class index back to the emotion label\n",
    "    return jsonify({'emotion': emotion})  # Return the predicted emotion as a JSON response\n",
    "\n",
    "# Run the Flask app\n",
    "if __name__ == '__main__':  # Check if the script is run directly (not imported as a module)\n",
    "    app.run(debug=True)  # Run the app in debug mode for easier troubleshooting during development\n"
   ]
  },
  {
   "cell_type": "code",
   "execution_count": null,
   "id": "783c1784-ce64-4639-88ce-c3ee37c78151",
   "metadata": {},
   "outputs": [],
   "source": [
    "#Sequential Layer: This indicates that the model consists of a sequence of fully connected layers followed by activation functions and dropout layers.\n",
    "'''\n",
    "Layers:\n",
    "\n",
    "Layer 0: Linear(in_features=768, out_features=128, bias=True)\n",
    "This is the first fully connected (FC) layer. The input size is 768 features (extracted from the Wav2Vec2 model), and the output size is 128 neurons.\n",
    "Layer 1: ReLU()\n",
    "This is the ReLU activation function, applied after the first fully connected layer to introduce non-linearity.\n",
    "Layer 2: Dropout(p=0.3)\n",
    "A dropout layer that randomly drops 30% of the neurons to prevent overfitting.\n",
    "Layer 3: Linear(in_features=128, out_features=64, bias=True)\n",
    "The second fully connected layer takes the 128 features from the previous layer and reduces it to 64 neurons.\n",
    "Layer 4: ReLU()\n",
    "Another ReLU activation function.\n",
    "Layer 5: Dropout(p=0.3)\n",
    "Another dropout layer with 30% probability.\n",
    "Layer 6: Linear(in_features=64, out_features=7, bias=True)\n",
    "The final fully connected layer that maps the 64 features to 7 output neurons, corresponding to the 7 possible emotion classes.\n",
    "'''\n",
    "\n"
   ]
  },
  {
   "cell_type": "code",
   "execution_count": null,
   "id": "d9ad75ec-0fd4-41e5-92ba-59aa080ae3c7",
   "metadata": {},
   "outputs": [],
   "source": [
    "!pip install PyQt5\n"
   ]
  },
  {
   "cell_type": "code",
   "execution_count": null,
   "id": "95d346c9-b901-49de-91ba-46ed39943b51",
   "metadata": {},
   "outputs": [
    {
     "name": "stderr",
     "output_type": "stream",
     "text": [
      "C:\\Users\\prann\\AppData\\Local\\Programs\\Python\\Python312\\Lib\\site-packages\\transformers\\configuration_utils.py:364: UserWarning: Passing `gradient_checkpointing` to a config initialization is deprecated and will be removed in v5 Transformers. Using `model.gradient_checkpointing_enable()` instead, or if you are using the `Trainer` API, pass `gradient_checkpointing=True` in your `TrainingArguments`.\n",
      "  warnings.warn(\n",
      "C:\\Users\\prann\\AppData\\Local\\Programs\\Python\\Python312\\Lib\\site-packages\\transformers\\tokenization_utils_base.py:1601: FutureWarning: `clean_up_tokenization_spaces` was not set. It will be set to `True` by default. This behavior will be depracted in transformers v4.45, and will be then set to `False` by default. For more details check this issue: https://github.com/huggingface/transformers/issues/31884\n",
      "  warnings.warn(\n",
      "Some weights of Wav2Vec2ForSequenceClassification were not initialized from the model checkpoint at facebook/wav2vec2-base and are newly initialized: ['classifier.bias', 'classifier.weight', 'projector.bias', 'projector.weight', 'wav2vec2.encoder.pos_conv_embed.conv.parametrizations.weight.original0', 'wav2vec2.encoder.pos_conv_embed.conv.parametrizations.weight.original1']\n",
      "You should probably TRAIN this model on a down-stream task to be able to use it for predictions and inference.\n"
     ]
    }
   ],
   "source": [
    "from PyQt5.QtWidgets import QApplication, QMainWindow, QPushButton, QLabel, QFileDialog\n",
    "import sys\n",
    "import torchaudio\n",
    "import torch\n",
    "\n",
    "class EmotionApp(QMainWindow):\n",
    "    def __init__(self, processor, model, label_encoder, device):\n",
    "        super().__init__()\n",
    "        self.processor = processor# Wav2Vec2 processor for audio preprocessing\n",
    "        self.model = model# Pretrained emotion classification model\n",
    "        self.label_encoder = label_encoder # Label encoder for mapping predicted indices to emotion labels\n",
    "        self.device = device # Device (CPU/GPU) where the model will run\n",
    "\n",
    " # Set up the GUI window\n",
    "        self.setWindowTitle('Emotion Detection')\n",
    "        self.setGeometry(300, 300, 400, 300)\n",
    "        self.label = QLabel('Upload an audio file:', self)\n",
    "        self.label.setGeometry(50, 50, 300, 30)\n",
    "\n",
    "        self.upload_button = QPushButton('Upload', self)\n",
    "        self.upload_button.setGeometry(50, 100, 100, 30)\n",
    "        self.upload_button.clicked.connect(self.upload_file)\n",
    "\n",
    "    def upload_file(self):\n",
    "        file_path, _ = QFileDialog.getOpenFileName(\n",
    "            self, \n",
    "            'Open File', \n",
    "            '', \n",
    "            'Audio Files (*.wav *.opus *.mp3 *.flac *.ogg)'\n",
    "        )\n",
    "        if file_path:\n",
    "            emotion = predict_emotion(file_path, self.processor, self.model, self.label_encoder, self.device)\n",
    "            self.label.setText(f'Predicted Emotion: {emotion}')\n",
    "\n",
    "def predict_emotion(file_path, processor, model, label_encoder, device):\n",
    "    # Load audio file\n",
    "    waveform, sample_rate = torchaudio.load(file_path)\n",
    "\n",
    "    # Resample if necessary\n",
    "    if sample_rate != 16000:\n",
    "        resampler = torchaudio.transforms.Resample(orig_freq=sample_rate, new_freq=16000)\n",
    "        waveform = resampler(waveform)\n",
    "\n",
    "    # Ensure the waveform is 1D (remove any unnecessary dimensions)\n",
    "    waveform = waveform.squeeze(0)  # Remove channel dimension if it's mono\n",
    "\n",
    "    # Process the waveform with the processor\n",
    "    inputs = processor(waveform, return_tensors=\"pt\", sampling_rate=16000, padding=True)\n",
    "    \n",
    "    # The processor will produce 'input_values' with shape [batch_size, sequence_length]\n",
    "    input_values = inputs[\"input_values\"].to(device)  # Move to the correct device\n",
    "\n",
    "    # Forward pass through the model\n",
    "    with torch.no_grad():\n",
    "        outputs = model(input_values)  # Pass the input tensor to the model\n",
    "        logits = outputs.logits\n",
    "        _, predicted = torch.max(logits, dim=1)\n",
    "\n",
    "    # Map the predicted label back to the emotion name\n",
    "    return label_encoder.inverse_transform([predicted.item()])[0]\n",
    "\n",
    "if __name__ == '__main__':\n",
    "    from transformers import Wav2Vec2Processor, Wav2Vec2ForSequenceClassification\n",
    "    from sklearn.preprocessing import LabelEncoder\n",
    "\n",
    "    # Load pre-trained processor and model\n",
    "    processor = Wav2Vec2Processor.from_pretrained(\"facebook/wav2vec2-base\")\n",
    "    model = Wav2Vec2ForSequenceClassification.from_pretrained(\n",
    "        \"facebook/wav2vec2-base\",\n",
    "        num_labels=5  # Update this based on your dataset's number of classes\n",
    "    )\n",
    "    device = torch.device(\"cuda\" if torch.cuda.is_available() else \"cpu\")\n",
    "    model.to(device)\n",
    "\n",
    "    # Load label encoder (ensure it's trained with your dataset)\n",
    "    label_encoder = LabelEncoder()\n",
    "    # Fit label encoder with your dataset labels\n",
    "    label_encoder.fit([\"angry\", \"happy\", \"sad\", \"neutral\", \"surprised\"])  # Example classes\n",
    "\n",
    "    app = QApplication(sys.argv)\n",
    "    main_window = EmotionApp(processor, model, label_encoder, device)\n",
    "    main_window.show()\n",
    "    sys.exit(app.exec_())\n",
    "\n"
   ]
  },
  {
   "cell_type": "code",
   "execution_count": null,
   "id": "d248122a-68f9-48fd-a91c-eaa6ab6d27d4",
   "metadata": {},
   "outputs": [],
   "source": []
  }
 ],
 "metadata": {
  "kernelspec": {
   "display_name": "Python 3 (ipykernel)",
   "language": "python",
   "name": "python3"
  },
  "language_info": {
   "codemirror_mode": {
    "name": "ipython",
    "version": 3
   },
   "file_extension": ".py",
   "mimetype": "text/x-python",
   "name": "python",
   "nbconvert_exporter": "python",
   "pygments_lexer": "ipython3",
   "version": "3.12.2"
  }
 },
 "nbformat": 4,
 "nbformat_minor": 5
}
